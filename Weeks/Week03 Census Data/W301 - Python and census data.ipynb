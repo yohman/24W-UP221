{
 "cells": [
  {
   "cell_type": "markdown",
   "metadata": {
    "toc": true
   },
   "source": [
    "<h1>Table of Contents<span class=\"tocSkip\"></span></h1>\n",
    "<div class=\"toc\"><ul class=\"toc-item\"><li><span><a href=\"#Take-notice!\" data-toc-modified-id=\"Take-notice!-1\"><span class=\"toc-item-num\">1&nbsp;&nbsp;</span>Take notice!</a></span></li><li><span><a href=\"#Pandas-and-census-data\" data-toc-modified-id=\"Pandas-and-census-data-2\"><span class=\"toc-item-num\">2&nbsp;&nbsp;</span>Pandas and census data</a></span><ul class=\"toc-item\"><li><span><a href=\"#Where-to-get-census-data?\" data-toc-modified-id=\"Where-to-get-census-data?-2.1\"><span class=\"toc-item-num\">2.1&nbsp;&nbsp;</span>Where to get census data?</a></span><ul class=\"toc-item\"><li><span><a href=\"#Social-Explorer\" data-toc-modified-id=\"Social-Explorer-2.1.1\"><span class=\"toc-item-num\">2.1.1&nbsp;&nbsp;</span>Social Explorer</a></span></li></ul></li><li><span><a href=\"#Importing-data\" data-toc-modified-id=\"Importing-data-2.2\"><span class=\"toc-item-num\">2.2&nbsp;&nbsp;</span>Importing data</a></span></li><li><span><a href=\"#Preliminary-inspection\" data-toc-modified-id=\"Preliminary-inspection-2.3\"><span class=\"toc-item-num\">2.3&nbsp;&nbsp;</span>Preliminary inspection</a></span></li><li><span><a href=\"#Overwriting-default-display-settings\" data-toc-modified-id=\"Overwriting-default-display-settings-2.4\"><span class=\"toc-item-num\">2.4&nbsp;&nbsp;</span>Overwriting default display settings</a></span></li><li><span><a href=\"#Data-types\" data-toc-modified-id=\"Data-types-2.5\"><span class=\"toc-item-num\">2.5&nbsp;&nbsp;</span>Data types</a></span></li><li><span><a href=\"#Assigning-data-types-on-import\" data-toc-modified-id=\"Assigning-data-types-on-import-2.6\"><span class=\"toc-item-num\">2.6&nbsp;&nbsp;</span>Assigning data types on import</a></span><ul class=\"toc-item\"><li><span><a href=\"#The-leading-zero-dilemma...\" data-toc-modified-id=\"The-leading-zero-dilemma...-2.6.1\"><span class=\"toc-item-num\">2.6.1&nbsp;&nbsp;</span>The leading zero dilemma...</a></span></li><li><span><a href=\"#The-FIPS-code\" data-toc-modified-id=\"The-FIPS-code-2.6.2\"><span class=\"toc-item-num\">2.6.2&nbsp;&nbsp;</span>The FIPS code</a></span></li></ul></li><li><span><a href=\"#Drop/Delete-null-columns\" data-toc-modified-id=\"Drop/Delete-null-columns-2.7\"><span class=\"toc-item-num\">2.7&nbsp;&nbsp;</span>Drop/Delete null columns</a></span></li><li><span><a href=\"#Dropping-columns-by-name\" data-toc-modified-id=\"Dropping-columns-by-name-2.8\"><span class=\"toc-item-num\">2.8&nbsp;&nbsp;</span>Dropping columns by name</a></span></li><li><span><a href=\"#The-census-data-dictionary\" data-toc-modified-id=\"The-census-data-dictionary-2.9\"><span class=\"toc-item-num\">2.9&nbsp;&nbsp;</span>The census data dictionary</a></span></li><li><span><a href=\"#Renaming-columns\" data-toc-modified-id=\"Renaming-columns-2.10\"><span class=\"toc-item-num\">2.10&nbsp;&nbsp;</span>Renaming columns</a></span></li><li><span><a href=\"#Simple-stats-and-plots\" data-toc-modified-id=\"Simple-stats-and-plots-2.11\"><span class=\"toc-item-num\">2.11&nbsp;&nbsp;</span>Simple stats and plots</a></span></li><li><span><a href=\"#Displaying-null/missing-values\" data-toc-modified-id=\"Displaying-null/missing-values-2.12\"><span class=\"toc-item-num\">2.12&nbsp;&nbsp;</span>Displaying null/missing values</a></span></li><li><span><a href=\"#Sorting\" data-toc-modified-id=\"Sorting-2.13\"><span class=\"toc-item-num\">2.13&nbsp;&nbsp;</span>Sorting</a></span></li><li><span><a href=\"#Filtering-and-subsetting-data\" data-toc-modified-id=\"Filtering-and-subsetting-data-2.14\"><span class=\"toc-item-num\">2.14&nbsp;&nbsp;</span>Filtering and subsetting data</a></span></li></ul></li><li><span><a href=\"#Maps!\" data-toc-modified-id=\"Maps!-3\"><span class=\"toc-item-num\">3&nbsp;&nbsp;</span>Maps!</a></span><ul class=\"toc-item\"><li><span><a href=\"#Geopandas-to-read-geojson\" data-toc-modified-id=\"Geopandas-to-read-geojson-3.1\"><span class=\"toc-item-num\">3.1&nbsp;&nbsp;</span>Geopandas to read geojson</a></span></li><li><span><a href=\"#Merging/joining-data\" data-toc-modified-id=\"Merging/joining-data-3.2\"><span class=\"toc-item-num\">3.2&nbsp;&nbsp;</span>Merging/joining data</a></span></li><li><span><a href=\"#Additional-mapping-ideas\" data-toc-modified-id=\"Additional-mapping-ideas-3.3\"><span class=\"toc-item-num\">3.3&nbsp;&nbsp;</span>Additional mapping ideas</a></span></li><li><span><a href=\"#Folium\" data-toc-modified-id=\"Folium-3.4\"><span class=\"toc-item-num\">3.4&nbsp;&nbsp;</span>Folium</a></span></li></ul></li></ul></div>"
   ]
  },
  {
   "cell_type": "markdown",
   "metadata": {
    "slideshow": {
     "slide_type": "slide"
    }
   },
   "source": [
    "<div class=\"alert alert-danger\">\n",
    "\n",
    "<h1>Take notice!</h1>\n",
    "<ul>\n",
    "    <li>This class will be recorded</li>\n",
    "</ul>\n",
    "    \n",
    "</div>"
   ]
  },
  {
   "cell_type": "markdown",
   "metadata": {
    "slideshow": {
     "slide_type": "slide"
    }
   },
   "source": [
    "# Pandas and census data\n",
    "Overview of this week's notebook:\n",
    "\n",
    "- how and where to find and download census data\n",
    "- use `pandas` library to read a csv file\n",
    "- learn how to find empty columns and eliminate them\n",
    "- drop unnecessary columns\n",
    "- renaming columns\n",
    "- simple stats\n",
    "- geopandas and folium"
   ]
  },
  {
   "cell_type": "markdown",
   "metadata": {
    "slideshow": {
     "slide_type": "slide"
    }
   },
   "source": [
    "## Where to get census data?\n",
    "\n",
    "<img src=\"images/se_splash.jpg\" width=600>\n",
    "\n",
    "Well, you have many options, including, getting it directly from the source, the census bureau website itself. However, as part of the academic community, we are offered a great resource: Social Explorer. With a campus-wide license to have full access to their website, you can download any census variable, that pretty much existed... ever. And, with its easy-to-use user interface, this is a wonderful one-stop shop for your census needs."
   ]
  },
  {
   "cell_type": "markdown",
   "metadata": {
    "slideshow": {
     "slide_type": "slide"
    }
   },
   "source": [
    "### Social Explorer\n",
    "\n",
    "* Use the [campus VPN](https://www.it.ucla.edu/it-support-center/services/virtual-private-network-vpn-clients)\n",
    "* https://www.socialexplorer.com\n",
    "* Follow this guide on [how to download data from social explorer](https://github.com/yohman/up206a/blob/master/guides/social_explorer.md)"
   ]
  },
  {
   "cell_type": "markdown",
   "metadata": {
    "slideshow": {
     "slide_type": "slide"
    }
   },
   "source": [
    "## Importing data\n",
    "\n",
    "As always, in order to work with data in python, we need a library that will let us handle \"data exploration.\" We looked at geopandas last week, but let's go to its origin, the one and only, `pandas` library.\n",
    "\n",
    "* https://pandas.pydata.org/"
   ]
  },
  {
   "cell_type": "code",
   "execution_count": null,
   "metadata": {},
   "outputs": [],
   "source": [
    "import pandas as pd"
   ]
  },
  {
   "cell_type": "markdown",
   "metadata": {
    "slideshow": {
     "slide_type": "slide"
    }
   },
   "source": [
    "Next, we make the call to load and read the data that was downloaded from social explorer. Again, take note at the relative path reference to find the file in your file directory."
   ]
  },
  {
   "cell_type": "code",
   "execution_count": null,
   "metadata": {},
   "outputs": [],
   "source": [
    "# load a data file\n",
    "# note the relative filepath! where is this file located?\n",
    "df = pd.read_csv('data/R13280610_SL140.csv')\n"
   ]
  },
  {
   "cell_type": "markdown",
   "metadata": {
    "slideshow": {
     "slide_type": "slide"
    }
   },
   "source": [
    "## Preliminary inspection\n",
    "A quick look at the size of the data."
   ]
  },
  {
   "cell_type": "code",
   "execution_count": null,
   "metadata": {},
   "outputs": [],
   "source": [
    "df.shape"
   ]
  },
  {
   "cell_type": "code",
   "execution_count": null,
   "metadata": {
    "scrolled": true,
    "slideshow": {
     "slide_type": "slide"
    }
   },
   "outputs": [],
   "source": [
    "df.head()"
   ]
  },
  {
   "cell_type": "markdown",
   "metadata": {
    "slideshow": {
     "slide_type": "slide"
    }
   },
   "source": [
    "## Overwriting default display settings \n",
    "By default, pandas outputs the first 10 and last 10 columns. If we want to see the entire table, we can override the defaults. Use with caution!"
   ]
  },
  {
   "cell_type": "code",
   "execution_count": null,
   "metadata": {},
   "outputs": [],
   "source": [
    "# I want to see all the data\n",
    "pd.set_option('display.max_columns', None)\n",
    "pd.set_option('display.max_rows', None)"
   ]
  },
  {
   "cell_type": "code",
   "execution_count": null,
   "metadata": {},
   "outputs": [],
   "source": [
    "df.sample()"
   ]
  },
  {
   "cell_type": "markdown",
   "metadata": {
    "slideshow": {
     "slide_type": "slide"
    }
   },
   "source": [
    "## Data types\n",
    "\n",
    "To get the data types, we will use `.info()`. Notice the new arguments within: `verbose=True, show_counts=True`. This is necessary because our data has so many columns."
   ]
  },
  {
   "cell_type": "code",
   "execution_count": null,
   "metadata": {
    "scrolled": true
   },
   "outputs": [],
   "source": [
    "# look at the data types, verbose = True shows us all the counts\n",
    "df.info(verbose=True, show_counts=True)"
   ]
  },
  {
   "cell_type": "markdown",
   "metadata": {
    "slideshow": {
     "slide_type": "slide"
    }
   },
   "source": [
    "## Assigning data types on import\n",
    "\n",
    "Let's take a closer look at the column that will become our unique identifier, `Geo_FIPS`."
   ]
  },
  {
   "cell_type": "code",
   "execution_count": null,
   "metadata": {},
   "outputs": [],
   "source": [
    "df.Geo_FIPS.head()"
   ]
  },
  {
   "cell_type": "markdown",
   "metadata": {
    "slideshow": {
     "slide_type": "slide"
    }
   },
   "source": [
    "### The leading zero dilemma...\n",
    "Waaaaaiiit... what happened to the leading \"0\" in the `Geo_FIPS` code? And for that matter, the `geo_STATE` and `geo_COUNTY` columns?"
   ]
  },
  {
   "cell_type": "code",
   "execution_count": null,
   "metadata": {
    "slideshow": {
     "slide_type": "fragment"
    }
   },
   "outputs": [],
   "source": [
    "df.Geo_STATE.head()"
   ]
  },
  {
   "cell_type": "code",
   "execution_count": null,
   "metadata": {
    "slideshow": {
     "slide_type": "fragment"
    }
   },
   "outputs": [],
   "source": [
    "df.Geo_COUNTY.head()"
   ]
  },
  {
   "cell_type": "markdown",
   "metadata": {
    "slideshow": {
     "slide_type": "slide"
    }
   },
   "source": [
    "### The FIPS code\n",
    "But what is a FIPS code and why is it important?\n",
    "\n",
    "![fips](images/fips.png)"
   ]
  },
  {
   "cell_type": "markdown",
   "metadata": {
    "slideshow": {
     "slide_type": "slide"
    }
   },
   "source": [
    "![fips code](https://learn.arcgis.com/en/related-concepts/GUID-D7AA4FD1-E7FE-49D7-9D11-07915C9ACC68-web.png)\n",
    "\n",
    "[Source: ESRI](https://learn.arcgis.com/en/related-concepts/united-states-census-geography.htm)"
   ]
  },
  {
   "cell_type": "markdown",
   "metadata": {
    "slideshow": {
     "slide_type": "slide"
    }
   },
   "source": [
    "That's right, python automatically makes decisions on import, and interprets \"FIPS\" as an integer column (after all, it's all numbers aren't they), thus cropping the leading zeroes. But no, that [leading zero](https://en.wikipedia.org/wiki/Leading_zero) is extremely important, as `06` represents the state of California, and `037` represents LA County. \n",
    "\n",
    "Let's fix this by re-importing the data, this time, specifying the `FIPS` columns as a string:"
   ]
  },
  {
   "cell_type": "code",
   "execution_count": null,
   "metadata": {
    "slideshow": {
     "slide_type": "fragment"
    }
   },
   "outputs": [],
   "source": [
    "#dtype ensures that the columns are read in as strings for leading zeros\n",
    "df = pd.read_csv(\n",
    "    'data/R13280610_SL140.csv',\n",
    "    dtype=\n",
    "    {\n",
    "        'Geo_FIPS':str,\n",
    "        'Geo_STATE':str,\n",
    "        'Geo_COUNTY': str\n",
    "    }\n",
    ")"
   ]
  },
  {
   "cell_type": "code",
   "execution_count": null,
   "metadata": {
    "slideshow": {
     "slide_type": "slide"
    }
   },
   "outputs": [],
   "source": [
    "# now look at the data again\n",
    "df.head()"
   ]
  },
  {
   "cell_type": "markdown",
   "metadata": {
    "slideshow": {
     "slide_type": "slide"
    }
   },
   "source": [
    "Confirm that your new dataframe has the correct datatypes."
   ]
  },
  {
   "cell_type": "code",
   "execution_count": null,
   "metadata": {
    "scrolled": true
   },
   "outputs": [],
   "source": [
    "# verbose shows all the columns, show_counts shows the number of non-null values\n",
    "df.info(verbose=True, show_counts=True)"
   ]
  },
  {
   "cell_type": "markdown",
   "metadata": {
    "slideshow": {
     "slide_type": "slide"
    }
   },
   "source": [
    "<div class=\"alert alert-danger\">\n",
    "    \n",
    "The [leading zero dilemma](https://en.wikipedia.org/wiki/Leading_zero) is a known enigma in GIS and data integration. Even ESRI has yet to find a clean solution to this problem, forcing users into resorting to [weird hacks](https://support.esri.com/en/technical-article/000013035) to circumvent this problem. Python and pandas actually gives us a \"clean-ish\" solution that makes logical sense... doesn't it? If/when you run into issues with leading zeros and merging table data to shapefiles or geoJSONs in python, you can use the ```zfill()``` function. [See this solution that I use all the time](https://stackoverflow.com/questions/23836277/add-leading-zeros-to-strings-in-pandas-dataframe)\n",
    "    \n",
    "</div>"
   ]
  },
  {
   "cell_type": "markdown",
   "metadata": {
    "slideshow": {
     "slide_type": "slide"
    }
   },
   "source": [
    "## Drop/Delete null columns\n",
    "By default, social explorer creates many columns. Many of them have null values from top to bottom. What are the null columns? You can find out using the handy `isna()` command. Notice the chain of commands.\n",
    "\n",
    "[isna().all()](https://pandas.pydata.org/pandas-docs/stable/reference/api/pandas.DataFrame.isna.html)"
   ]
  },
  {
   "cell_type": "markdown",
   "metadata": {
    "slideshow": {
     "slide_type": "slide"
    }
   },
   "source": [
    "The `.all()` indicates that you want to find the columns that have ALL empty values. The other option would be `.any()` which would list all columns that have *at least one* empty value. "
   ]
  },
  {
   "cell_type": "code",
   "execution_count": null,
   "metadata": {
    "scrolled": true
   },
   "outputs": [],
   "source": [
    "df.columns[df.isna().all()].tolist()"
   ]
  },
  {
   "cell_type": "markdown",
   "metadata": {
    "slideshow": {
     "slide_type": "slide"
    }
   },
   "source": [
    "Let's eliminate these. There is a handy pandas command to do so `.dropna()`. The arguments are `axis=1` which indicates you want to eliminate *columns* (`axis=0` would eliminate rows), and `how=\"all\"` to remove columns where all values are empty.\n",
    "\n",
    "* [dropna](https://pandas.pydata.org/pandas-docs/stable/reference/api/pandas.DataFrame.dropna.html)"
   ]
  },
  {
   "cell_type": "code",
   "execution_count": null,
   "metadata": {
    "slideshow": {
     "slide_type": "fragment"
    }
   },
   "outputs": [],
   "source": [
    "# axis = 0 drops rows axis = 1 drops columns with null\n",
    "df = df.dropna(axis=1,how=\"all\")"
   ]
  },
  {
   "cell_type": "code",
   "execution_count": null,
   "metadata": {
    "scrolled": true,
    "slideshow": {
     "slide_type": "slide"
    }
   },
   "outputs": [],
   "source": [
    "df.info()"
   ]
  },
  {
   "cell_type": "code",
   "execution_count": null,
   "metadata": {
    "slideshow": {
     "slide_type": "slide"
    }
   },
   "outputs": [],
   "source": [
    "# reinspect the data\n",
    "df.head()"
   ]
  },
  {
   "cell_type": "markdown",
   "metadata": {},
   "source": [
    "## The US Census Bureau's data download website is a 'better' open data source for downloading CSVs and metadata\n",
    "Here is a [PDF tutorial](https://www2.census.gov/data/api-documentation/how-to-download-a-table-as-a-csv-file.pdf) on how to filter and download CSVs through the [US Census Bureau open data portal](https://data.census.gov). \n",
    "* Go to data.census.gov\n",
    "* Use Advanced Search to filter by Geography --> Census Tracts or Blocks --> Filter by State --> Filter by County --> Select all Census tracts in County <br />\n",
    "<img src=\"images/censusData1.png\" width=600>\n",
    "* Filter by Geography --> Census Tracts or Blocks --> State --> County --> All Census Tracts within [Name] County, [State]<br />\n",
    "<img src=\"images/censusData2.png\" height=50%>\n",
    "* Select your survey of choice depending on recency, either the American Community Survey or US Census \n",
    "* Follow [this tutorial to download](https://www.census.gov/library/video/2023/adrm/downloading-exporting-and-sharing-2020-census-demographic-and-housing-characteristics-data.html) CSVs with a data CSV and a metadata CSV. The metadata CSV will give you descriptions of codes like the ones below.\n",
    "* Click DOWNLOAD TABLE and the year that you want to download <br />\n",
    "<img src=\"images/censusData3.png\" width=600>\n",
    "* Unzip the folder, you will see a -data and -metadata CSV <br />\n",
    "<img src=\"images/censusData4.png\" width=600>\n",
    "* Open both and you will see that certain codes correspond to descriptions <br />\n",
    "<img src=\"images/censusData5.png\" width=600>\n",
    "* Right click the second column and click insert <br />\n",
    "<img src=\"images/excel1.png\" width=600>\n",
    "* Select the Data tab at the top and click Text to Columns <br />\n",
    "<img src=\"images/excel2.png\" width=600>\n",
    "* Hit next to get to step 2 of 3. You will Delimit (split) the GEOID column based on the S in US in order to get FIPS for joining your census csv to tracts (either in shapefile or geojson format) with geopandas <br />\n",
    "<img src=\"images/excel3.png\" width=600>\n",
    "* In step 3 of 3, VERY IMPORTANT, click the column with the 11 digit FIPS code and select Text to format the FIPS column as text. If you do not do this, the leading zero will disappear when you import using ```pandas.read_file()``` <br />\n",
    "<img src=\"images/excel4.png\" width=600>\n",
    "* Delete the first column of data<br />\n",
    "<img src=\"images/excel5.png\" width=600>\n",
    "* Delete the second row of data or else you will have two headers. Save the CSV with a simple file name. For example, ```medIncome.csv``` <br />\n",
    "<img src=\"images/excel6.png\" width=600>\n",
    "### HINT: will need to delete the second row of data because it is the description of the abbreviated data codes. You can do this in Excel or with a ```df.drop(1, inplace=True)``` command in Jupyter. [pandas.drop documentation](https://pandas.pydata.org/docs/reference/api/pandas.DataFrame.drop.html) "
   ]
  },
  {
   "cell_type": "markdown",
   "metadata": {
    "slideshow": {
     "slide_type": "slide"
    }
   },
   "source": [
    "## The census data dictionary\n",
    "What are these columns? Column headers are defined in the data dictionary text file downloaded from social explorer. For your reference, it has been uploaded to the data directory in this folder.\n",
    "* [data dictionary](data/R13280610.txt)"
   ]
  },
  {
   "cell_type": "markdown",
   "metadata": {},
   "source": [
    "### Defining columns to keep\n",
    "\n",
    "According to the data dictionary, our dataframe includes many, many columns. While they may be useful for future analysis, let's only keep the columns that we will be using for this session, mainly the 2020 \"Race by Ethnicity\" columns:\n",
    "\n",
    "- GeoFIPS:       Geographic identifier\n",
    "- SE_T004_019:   Total Population\n",
    "- SE_T004_001:   Non Hispanic\n",
    "- SE_T004_003:   Non Hispanic White Alone\n",
    "- SE_T004_005:   Non Hispanic Black Alone\n",
    "- SE_T004_007:   Non Hispanic American Indian and Alaska Native Alone\n",
    "- SE_T004_009:   Non Hispanic Asian Alone\n",
    "- SE_T004_011:   Non Hispanic Native Hawaiian and Pacific Islander Alone\n",
    "- SE_T004_013:   Non Hispanic Other Alone\n",
    "- SE_T004_015:   Non Hispanic Multi Race\n",
    "- SE_T004_017:   Hispanic"
   ]
  },
  {
   "cell_type": "markdown",
   "metadata": {
    "slideshow": {
     "slide_type": "slide"
    }
   },
   "source": [
    "To do so, we create a subset of our dataframe and create a new dataframe. Let's call it ```df2```:"
   ]
  },
  {
   "cell_type": "code",
   "execution_count": null,
   "metadata": {
    "slideshow": {
     "slide_type": "fragment"
    }
   },
   "outputs": [],
   "source": [
    "# define columns to keep; you will have to look at your source's metadata to determine which columns to keep and what they mean\n",
    "columns_to_keep = ['Geo_FIPS',\n",
    "                   'SE_T004_019',\n",
    "                   'SE_T004_001',\n",
    "                   'SE_T004_003',\n",
    "                   'SE_T004_005',\n",
    "                   'SE_T004_007',\n",
    "                   'SE_T004_009',\n",
    "                   'SE_T004_011',\n",
    "                   'SE_T004_013',\n",
    "                   'SE_T004_015',\n",
    "                   'SE_T004_017']\n",
    "# add it to a new dataframe\n",
    "df2 = df[columns_to_keep]"
   ]
  },
  {
   "cell_type": "markdown",
   "metadata": {
    "slideshow": {
     "slide_type": "slide"
    }
   },
   "source": [
    "## Renaming columns\n",
    "\n",
    "Let's rename the columns. First, create a list of column names as they are now."
   ]
  },
  {
   "cell_type": "code",
   "execution_count": null,
   "metadata": {},
   "outputs": [],
   "source": [
    "# returns list of columns \n",
    "columns = list(df2) # this is the same as df.columns.to_list()\n",
    "columns"
   ]
  },
  {
   "cell_type": "markdown",
   "metadata": {
    "slideshow": {
     "slide_type": "slide"
    }
   },
   "source": [
    "Then, simply copy and paste the output list above, and define the columns with it. Replace the values with your desired column names"
   ]
  },
  {
   "cell_type": "code",
   "execution_count": null,
   "metadata": {},
   "outputs": [],
   "source": [
    "df2.columns = ['FIPS',\n",
    "'TotalPop',\n",
    "'Non Hispanic',\n",
    "'Non Hispanic White Alone',\n",
    "'Non Hispanic Black Alone',\n",
    "'Non Hispanic American Indian and Alaska Native Alone',\n",
    "'Non Hispanic Asian Alone',\n",
    "'Non Hispanic Native Hawaiian and Pacific Islander Alone',\n",
    "'Non Hispanic Other Alone',\n",
    "'Non Hispanic Multi Race',\n",
    "'Hispanic']\n"
   ]
  },
  {
   "cell_type": "code",
   "execution_count": null,
   "metadata": {
    "slideshow": {
     "slide_type": "slide"
    }
   },
   "outputs": [],
   "source": [
    "df2.sample(5)"
   ]
  },
  {
   "cell_type": "markdown",
   "metadata": {
    "slideshow": {
     "slide_type": "slide"
    }
   },
   "source": [
    "## Simple stats and plots\n",
    "\n",
    "- [histograms](https://pandas.pydata.org/docs/reference/api/pandas.DataFrame.plot.hist.html)\n",
    "- [box plots](https://pandas.pydata.org/docs/reference/api/pandas.DataFrame.boxplot.html)\n",
    "- [scatter plots](https://pandas.pydata.org/docs/reference/api/pandas.DataFrame.plot.scatter.html)\n"
   ]
  },
  {
   "cell_type": "code",
   "execution_count": null,
   "metadata": {
    "scrolled": true
   },
   "outputs": [],
   "source": [
    "# access a single column like df['col_name']\n",
    "df2['TotalPop'].head()"
   ]
  },
  {
   "cell_type": "code",
   "execution_count": null,
   "metadata": {
    "slideshow": {
     "slide_type": "slide"
    }
   },
   "outputs": [],
   "source": [
    "# What is the mean?\n",
    "df2['TotalPop'].mean()"
   ]
  },
  {
   "cell_type": "code",
   "execution_count": null,
   "metadata": {},
   "outputs": [],
   "source": [
    "# What is the median?\n",
    "df2['TotalPop'].median()"
   ]
  },
  {
   "cell_type": "code",
   "execution_count": null,
   "metadata": {},
   "outputs": [],
   "source": [
    "# get some stats\n",
    "df2['TotalPop'].describe()"
   ]
  },
  {
   "cell_type": "code",
   "execution_count": null,
   "metadata": {
    "scrolled": true,
    "slideshow": {
     "slide_type": "slide"
    },
    "tags": []
   },
   "outputs": [],
   "source": [
    "# plot it as a historgram with 50 bins\n",
    "df2['TotalPop'].plot.hist(bins=50)"
   ]
  },
  {
   "cell_type": "code",
   "execution_count": null,
   "metadata": {
    "slideshow": {
     "slide_type": "slide"
    }
   },
   "outputs": [],
   "source": [
    "# box plot: notice the different syntax to generate it\n",
    "df2.boxplot(column=['TotalPop'])"
   ]
  },
  {
   "cell_type": "code",
   "execution_count": null,
   "metadata": {
    "slideshow": {
     "slide_type": "slide"
    }
   },
   "outputs": [],
   "source": [
    "df2.plot.scatter(x='Non Hispanic Black Alone',y='Non Hispanic White Alone')"
   ]
  },
  {
   "cell_type": "markdown",
   "metadata": {
    "slideshow": {
     "slide_type": "slide"
    }
   },
   "source": [
    "<div class=\"alert alert-info\">\n",
    "    Now it's your turn. Find some stats for different fields in the data and output them below.\n",
    "    </div>"
   ]
  },
  {
   "cell_type": "code",
   "execution_count": null,
   "metadata": {},
   "outputs": [],
   "source": []
  },
  {
   "cell_type": "markdown",
   "metadata": {
    "slideshow": {
     "slide_type": "slide"
    }
   },
   "source": [
    "## Sorting\n",
    "What are the top 10 most populated census tracts? What are the census tracts with the highest black popluation? To answer these questions, the simplest method is to sort the data by their respective columns."
   ]
  },
  {
   "cell_type": "code",
   "execution_count": null,
   "metadata": {},
   "outputs": [],
   "source": [
    "df_sorted = df2.sort_values(by='TotalPop',ascending = False)"
   ]
  },
  {
   "cell_type": "code",
   "execution_count": null,
   "metadata": {
    "scrolled": true,
    "slideshow": {
     "slide_type": "slide"
    }
   },
   "outputs": [],
   "source": [
    "# display the data, but just a few columns to keep it clean\n",
    "df_sorted[['FIPS','TotalPop']].head(10)"
   ]
  },
  {
   "cell_type": "code",
   "execution_count": null,
   "metadata": {
    "slideshow": {
     "slide_type": "slide"
    }
   },
   "outputs": [],
   "source": [
    "# plot it\n",
    "df_sorted.head(10).plot.bar(x='FIPS',\n",
    "                            y='TotalPop')"
   ]
  },
  {
   "cell_type": "code",
   "execution_count": null,
   "metadata": {
    "slideshow": {
     "slide_type": "slide"
    }
   },
   "outputs": [],
   "source": [
    "# Make it prettier with a title\n",
    "df_sorted.head(10).plot.barh(x='FIPS',\n",
    "                            y='TotalPop', \n",
    "                            title='Top 10 Census Tracts with Highest Population in Los Angeles County in 2020',\n",
    "                            color='red')"
   ]
  },
  {
   "cell_type": "markdown",
   "metadata": {
    "slideshow": {
     "slide_type": "slide"
    }
   },
   "source": [
    "<div class=\"alert alert-info\">\n",
    "    Now it's your turn! Create a table and accompanying bar plot for the top 10 values for column of your choice\n",
    "</div>"
   ]
  },
  {
   "cell_type": "code",
   "execution_count": null,
   "metadata": {},
   "outputs": [],
   "source": [
    "\n"
   ]
  },
  {
   "cell_type": "markdown",
   "metadata": {
    "slideshow": {
     "slide_type": "slide"
    }
   },
   "source": [
    "## Filtering and subsetting data\n",
    "Sorting is one method, but the process of discovery compels us to interrogate the data in different ways. One method of doing so is to query, or filter the data to see specific views of the data based on a question you may have. For example, what are the census tract that have no people in them? Or, Which census tracts are more than 75% black?"
   ]
  },
  {
   "cell_type": "code",
   "execution_count": null,
   "metadata": {
    "scrolled": true,
    "slideshow": {
     "slide_type": "slide"
    },
    "tags": []
   },
   "outputs": [],
   "source": [
    "# subset the data so that we can see the data per row... \n",
    "# in other words, this syntax is asking to \"show me the values in my dataframe that match this filter\n",
    "df2[df2['TotalPop']==0]"
   ]
  },
  {
   "cell_type": "markdown",
   "metadata": {
    "slideshow": {
     "slide_type": "slide"
    }
   },
   "source": [
    "Note that unless you specify the resulting output as a new variable, the results are only temporary (in memory). If you want to use the results for subsequent analysis, you need to create a new variable."
   ]
  },
  {
   "cell_type": "code",
   "execution_count": null,
   "metadata": {},
   "outputs": [],
   "source": [
    "# create a new variable for census tracts with zero pop\n",
    "df_no_pop = df2[df2['TotalPop']==0]"
   ]
  },
  {
   "cell_type": "code",
   "execution_count": null,
   "metadata": {
    "slideshow": {
     "slide_type": "slide"
    }
   },
   "outputs": [],
   "source": [
    "# how many records?\n",
    "print('There are ' + str(len(df_no_pop)) + ' census tracts with no people in them')"
   ]
  },
  {
   "cell_type": "code",
   "execution_count": null,
   "metadata": {
    "scrolled": true,
    "slideshow": {
     "slide_type": "fragment"
    }
   },
   "outputs": [],
   "source": [
    "# display it\n",
    "df_no_pop[['FIPS','TotalPop']]"
   ]
  },
  {
   "cell_type": "markdown",
   "metadata": {
    "slideshow": {
     "slide_type": "slide"
    }
   },
   "source": [
    "<div class=\"alert alert-info\">\n",
    "    Now it's your turn! Find out how many census tracts have more than 3000 Black persons, and output them in a table.\n",
    "    <br>\n",
    "    <br>\n",
    "    Extra points if you can show only relevant columns, and sort them from highest to lowest!\n",
    "</div>"
   ]
  },
  {
   "cell_type": "code",
   "execution_count": null,
   "metadata": {},
   "outputs": [],
   "source": [
    "df_subset = df2[df2['Non Hispanic Black Alone'] > 5000]\n"
   ]
  },
  {
   "cell_type": "markdown",
   "metadata": {
    "slideshow": {
     "slide_type": "slide"
    }
   },
   "source": [
    "# Maps!"
   ]
  },
  {
   "cell_type": "markdown",
   "metadata": {},
   "source": [
    "## Geopandas to read geojson\n",
    "Last week, we learned how to read a shapefile using geopandas. Geopandas can read other spatial file formats, so let's try it with the popular [geojson format](https://geojson.org/).\n",
    "\n",
    "* Data from the County of Los Angeles Enterprise GIS portal [link](https://egis-lacounty.hub.arcgis.com/datasets/339787e096f94c2dbfbf1909698d6c5c/explore)\n",
    "\n",
    "For the purposes of this lab, the data has been downloaded and made available in the data folder.\n",
    "\n"
   ]
  },
  {
   "cell_type": "code",
   "execution_count": null,
   "metadata": {},
   "outputs": [],
   "source": [
    "import geopandas as gpd"
   ]
  },
  {
   "cell_type": "code",
   "execution_count": null,
   "metadata": {
    "slideshow": {
     "slide_type": "slide"
    }
   },
   "outputs": [],
   "source": [
    "# read in a geojson file downloaded from the LA Times\n",
    "tracts=gpd.read_file('data/Census_Tracts_2020.geojson')\n",
    "tracts.head()"
   ]
  },
  {
   "cell_type": "code",
   "execution_count": null,
   "metadata": {
    "slideshow": {
     "slide_type": "slide"
    }
   },
   "outputs": [],
   "source": [
    "# plot it!\n",
    "tracts.plot(figsize=(12,10))"
   ]
  },
  {
   "cell_type": "code",
   "execution_count": null,
   "metadata": {
    "slideshow": {
     "slide_type": "slide"
    }
   },
   "outputs": [],
   "source": [
    "# tell me more about this dataset\n",
    "tracts.info(verbose=True, show_counts=True)"
   ]
  },
  {
   "cell_type": "code",
   "execution_count": null,
   "metadata": {
    "slideshow": {
     "slide_type": "slide"
    }
   },
   "outputs": [],
   "source": [
    "# we only really need FIPS and geometry, so let's subset the data\n",
    "tracts = tracts[['CT20','geometry']]\n",
    "tracts.head()"
   ]
  },
  {
   "cell_type": "code",
   "execution_count": null,
   "metadata": {},
   "outputs": [],
   "source": [
    "# create a FIPS column\n",
    "tracts['FIPS'] ='06' + '037' + tracts['CT20']"
   ]
  },
  {
   "cell_type": "code",
   "execution_count": null,
   "metadata": {},
   "outputs": [],
   "source": [
    "# check it!\n",
    "tracts.head()"
   ]
  },
  {
   "cell_type": "markdown",
   "metadata": {
    "slideshow": {
     "slide_type": "slide"
    }
   },
   "source": [
    "## Merging/joining data\n",
    "\n",
    "In order to map our census data from social explorer, we need to merge, or join it to our census tract geojson.\n",
    "\n",
    "<img src=\"images/join.png\">"
   ]
  },
  {
   "cell_type": "markdown",
   "metadata": {
    "slideshow": {
     "slide_type": "slide"
    }
   },
   "source": [
    "<div class=\"alert alert-danger\">\n",
    "    \n",
    "Remember the leading zero dilemma? This is why it is important to make sure our data types align. FIPS codes must be used as strings in order for them to join correctly.\n",
    "    \n",
    "</div>"
   ]
  },
  {
   "cell_type": "code",
   "execution_count": null,
   "metadata": {
    "slideshow": {
     "slide_type": "slide"
    }
   },
   "outputs": [],
   "source": [
    "# create a new dataframe based on the join\n",
    "tracts_race=tracts.merge(df2,on=\"FIPS\")"
   ]
  },
  {
   "cell_type": "code",
   "execution_count": null,
   "metadata": {
    "slideshow": {
     "slide_type": "fragment"
    }
   },
   "outputs": [],
   "source": [
    "# what does it look like now?\n",
    "tracts_race.head()"
   ]
  },
  {
   "cell_type": "markdown",
   "metadata": {
    "slideshow": {
     "slide_type": "slide"
    }
   },
   "source": [
    "We can now create choropleth maps in geopandas. \n",
    "\n",
    "* [geopandas choropleth maps](https://geopandas.org/mapping.html#choropleth-maps)\n",
    "* [color schemes](https://geopandas.org/mapping.html#choosing-colors)\n",
    "  * `natural_breaks`\n",
    "  * `equal_interval`\n",
    "  * `quantiles`"
   ]
  },
  {
   "cell_type": "code",
   "execution_count": null,
   "metadata": {
    "slideshow": {
     "slide_type": "slide"
    }
   },
   "outputs": [],
   "source": [
    "tracts_race.plot(figsize=(12,10),\n",
    "                 column='Non Hispanic Black Alone',\n",
    "                 legend=True, \n",
    "                 scheme='NaturalBreaks')"
   ]
  },
  {
   "cell_type": "code",
   "execution_count": null,
   "metadata": {
    "scrolled": true,
    "slideshow": {
     "slide_type": "slide"
    }
   },
   "outputs": [],
   "source": [
    "tracts_race.plot(figsize=(12,10),\n",
    "                 column='Non Hispanic Black Alone',\n",
    "                 legend=True, \n",
    "                 scheme='equal_interval')"
   ]
  },
  {
   "cell_type": "code",
   "execution_count": null,
   "metadata": {
    "scrolled": true,
    "slideshow": {
     "slide_type": "slide"
    }
   },
   "outputs": [],
   "source": [
    "tracts_race.plot(figsize=(12,10),\n",
    "                 column='Non Hispanic Black Alone',\n",
    "                 legend=True, \n",
    "                 scheme='quantiles')"
   ]
  },
  {
   "cell_type": "markdown",
   "metadata": {
    "slideshow": {
     "slide_type": "slide"
    }
   },
   "source": [
    "<div class=\"alert alert-info\">\n",
    "\n",
    "Now it's your turn! Create map plots based on other race indicators. Experiment with the different schemes to display variations of the same data, mapped differently.\n",
    "\n",
    "</div>"
   ]
  },
  {
   "cell_type": "code",
   "execution_count": null,
   "metadata": {},
   "outputs": [],
   "source": []
  },
  {
   "cell_type": "markdown",
   "metadata": {
    "slideshow": {
     "slide_type": "slide"
    }
   },
   "source": [
    "## Additional mapping ideas\n",
    "What does the majority ethnic cluster look like in Los Angeles?"
   ]
  },
  {
   "cell_type": "code",
   "execution_count": null,
   "metadata": {
    "tags": []
   },
   "outputs": [],
   "source": [
    "# First, create new columns for percentages\n",
    "tracts_race['PCT_Black'] = tracts_race['Non Hispanic Black Alone']/tracts_race['TotalPop']*100\n",
    "tracts_race['PCT_White'] = tracts_race['Non Hispanic White Alone']/tracts_race['TotalPop']*100\n",
    "tracts_race['PCT_Asian'] = tracts_race['Non Hispanic Asian Alone']/tracts_race['TotalPop']*100"
   ]
  },
  {
   "cell_type": "code",
   "execution_count": null,
   "metadata": {
    "slideshow": {
     "slide_type": "slide"
    }
   },
   "outputs": [],
   "source": [
    "tracts_race.plot(figsize=(12,10),\n",
    "                 column='PCT_Black',\n",
    "                 legend=True, \n",
    "                 scheme='equal_interval')"
   ]
  },
  {
   "cell_type": "code",
   "execution_count": null,
   "metadata": {
    "slideshow": {
     "slide_type": "slide"
    }
   },
   "outputs": [],
   "source": [
    "tracts_race.plot(figsize=(12,10),\n",
    "                 column='PCT_White',\n",
    "                 legend=True, \n",
    "                 scheme='equal_interval')"
   ]
  },
  {
   "cell_type": "code",
   "execution_count": null,
   "metadata": {
    "slideshow": {
     "slide_type": "slide"
    }
   },
   "outputs": [],
   "source": [
    "tracts_race.plot(figsize=(12,10),\n",
    "                 column='PCT_Asian',\n",
    "                 legend=True, \n",
    "                 scheme='equal_interval')"
   ]
  },
  {
   "cell_type": "code",
   "execution_count": null,
   "metadata": {
    "slideshow": {
     "slide_type": "slide"
    }
   },
   "outputs": [],
   "source": [
    "tracts_race[tracts_race.PCT_Black > 50].plot(figsize=(12,10))"
   ]
  },
  {
   "cell_type": "code",
   "execution_count": null,
   "metadata": {
    "slideshow": {
     "slide_type": "slide"
    }
   },
   "outputs": [],
   "source": [
    "tracts_race[tracts_race.PCT_White > 50].plot(figsize=(12,10))"
   ]
  },
  {
   "cell_type": "code",
   "execution_count": null,
   "metadata": {
    "slideshow": {
     "slide_type": "slide"
    }
   },
   "outputs": [],
   "source": [
    "tracts_race[tracts_race.PCT_Asian > 50].plot(figsize=(12,10))"
   ]
  },
  {
   "cell_type": "markdown",
   "metadata": {
    "slideshow": {
     "slide_type": "slide"
    }
   },
   "source": [
    "## Folium\n",
    "\n"
   ]
  },
  {
   "cell_type": "code",
   "execution_count": null,
   "metadata": {},
   "outputs": [],
   "source": [
    "import folium "
   ]
  },
  {
   "cell_type": "code",
   "execution_count": null,
   "metadata": {},
   "outputs": [],
   "source": [
    "m = folium.Map(location=[34.2,-118.2], \n",
    "               zoom_start = 9,\n",
    "               tiles='CartoDB positron', \n",
    "               attribution='CartoDB')\n",
    "\n",
    "# plot chorpleth over the base map\n",
    "folium.Choropleth(\n",
    "                  geo_data=tracts_race, # geo data\n",
    "                  data=tracts_race, # data          \n",
    "                  key_on='feature.properties.FIPS', # key, or merge column\n",
    "                  columns=['FIPS', 'PCT_Black'], # [key, value]\n",
    "                  fill_color='BuPu',\n",
    "                  line_weight=0.1, \n",
    "                  fill_opacity=0.8,\n",
    "                  line_opacity=0.2, # line opacity (of the border)\n",
    "                  legend_name='Population Black (2020)').add_to(m)    # name on the legend color bar\n",
    "m"
   ]
  },
  {
   "cell_type": "code",
   "execution_count": null,
   "metadata": {},
   "outputs": [],
   "source": [
    "m.save('LA_Black.html')"
   ]
  },
  {
   "cell_type": "markdown",
   "metadata": {},
   "source": [
    "## You can also customize map colors and create popups using [folium and branca](https://python-visualization.github.io/folium/latest/user_guide/geojson/geojson_popup_and_tooltip.html). \n",
    "### Check out the [folium documentation](https://python-visualization.github.io/folium/latest/user_guide.html) and [branca documentation](https://python-visualization.github.io/branca/colormap.html)!"
   ]
  }
 ],
 "metadata": {
  "celltoolbar": "Slideshow",
  "kernelspec": {
   "display_name": "Python 3 (ipykernel)",
   "language": "python",
   "name": "python3"
  },
  "language_info": {
   "codemirror_mode": {
    "name": "ipython",
    "version": 3
   },
   "file_extension": ".py",
   "mimetype": "text/x-python",
   "name": "python",
   "nbconvert_exporter": "python",
   "pygments_lexer": "ipython3",
   "version": "3.11.7"
  },
  "toc": {
   "base_numbering": 1,
   "nav_menu": {},
   "number_sections": true,
   "sideBar": true,
   "skip_h1_title": false,
   "title_cell": "Table of Contents",
   "title_sidebar": "Contents",
   "toc_cell": true,
   "toc_position": {
    "height": "calc(100% - 180px)",
    "left": "10px",
    "top": "150px",
    "width": "350.8px"
   },
   "toc_section_display": true,
   "toc_window_display": false
  }
 },
 "nbformat": 4,
 "nbformat_minor": 4
}
