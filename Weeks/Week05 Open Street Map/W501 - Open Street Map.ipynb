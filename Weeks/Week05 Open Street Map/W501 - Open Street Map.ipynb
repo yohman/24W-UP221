{
 "cells": [
  {
   "cell_type": "markdown",
   "metadata": {
    "slideshow": {
     "slide_type": "slide"
    }
   },
   "source": [
    "<div class=\"alert alert-danger\">\n",
    "\n",
    "<h1>Take notice!🎥</h1>\n",
    "<ul>\n",
    "    <li>This class will be recorded</li>\n",
    "</ul>\n",
    "    \n",
    "</div>"
   ]
  },
  {
   "cell_type": "markdown",
   "metadata": {
    "slideshow": {
     "slide_type": "slide"
    }
   },
   "source": [
    "# Open Street Map\n",
    "\n",
    "In this lab, you will learn how to:\n",
    "* use various python libraries to search for and download Open Street Map *building* data\n",
    "* categorize buildings by type\n",
    "* visualize buildings on a map\n",
    "* create a function to produce building maps\n",
    "* create a loop to produce building maps for multiple locations\n",
    "\n",
    "Note that we will learn how to use street network analysis with OSMnx in subsequent labs."
   ]
  },
  {
   "cell_type": "markdown",
   "metadata": {
    "slideshow": {
     "slide_type": "slide"
    }
   },
   "source": [
    "![osm](images/OSM.png)\n",
    "What is open street map?\n",
    "- https://www.openstreetmap.org/\n",
    "\n",
    "OSMnx\n",
    "- library documentation (https://osmnx.readthedocs.io)\n",
    "- github (https://github.com/gboeing/osmnx)\n",
    "- Examples and demos are available at: https://github.com/gboeing/osmnx-examples\n"
   ]
  },
  {
   "cell_type": "markdown",
   "metadata": {
    "slideshow": {
     "slide_type": "slide"
    }
   },
   "source": [
    "## Download visualizing Open Street Map data\n",
    "\n",
    "OSMnx lets you download data from Open Street Map.\n",
    "\n",
    "You can download OSM data by providing OSMnx any of the following:\n",
    "  - a bounding box\n",
    "  - a lat-long point plus a distance\n",
    "  - an address plus a distance\n",
    "  - a place name or list of place names (to automatically geocode and get the boundary of)\n",
    "  - a polygon of the desired street network's boundaries\n",
    "  - a .osm formatted xml file\n",
    "\n",
    "[OSMNx source](https://github.com/gboeing/osmnx/blob/99f4b1566a22f2a4dd3763190f8d0f3efa2a9b7f/osmnx/geometries.py)"
   ]
  },
  {
   "cell_type": "markdown",
   "metadata": {
    "slideshow": {
     "slide_type": "slide"
    }
   },
   "source": [
    "<div class=\"alert alert-info\">\n",
    "    \n",
    "`osmnx` uses nominatim to geocode and find places. Make sure that the geography you search for is searchable here first:\n",
    "\n",
    "https://nominatim.openstreetmap.org/ui/search.html\n",
    "\n",
    "</div>"
   ]
  },
  {
   "cell_type": "markdown",
   "metadata": {
    "slideshow": {
     "slide_type": "slide"
    }
   },
   "source": [
    "For the sake of clarity, and effective use of a workshop setting, let's use the \"address plus a distance\" method to download a street network dataset."
   ]
  },
  {
   "cell_type": "markdown",
   "metadata": {
    "slideshow": {
     "slide_type": "slide"
    }
   },
   "source": [
    "## Import the libraries"
   ]
  },
  {
   "cell_type": "code",
   "execution_count": null,
   "metadata": {
    "ExecuteTime": {
     "end_time": "2020-10-21T06:55:52.751236Z",
     "start_time": "2020-10-21T06:55:51.028079Z"
    },
    "slideshow": {
     "slide_type": "fragment"
    }
   },
   "outputs": [],
   "source": [
    "# to download osm data\n",
    "import osmnx as ox\n",
    "\n",
    "# to manipulate data\n",
    "import pandas as pd\n",
    "\n",
    "# for interactive plots\n",
    "import plotly.express as px\n",
    "\n",
    "# to manipulate and visualize spatial data\n",
    "import geopandas as gpd\n",
    "\n",
    "# to provide basemaps \n",
    "import contextily as ctx\n",
    "\n",
    "# to give more power to your figures (plots)\n",
    "import matplotlib.pyplot as plt"
   ]
  },
  {
   "cell_type": "markdown",
   "metadata": {
    "slideshow": {
     "slide_type": "slide"
    }
   },
   "source": [
    "## Define an area of interest"
   ]
  },
  {
   "cell_type": "markdown",
   "metadata": {},
   "source": [
    "<div class=\"alert alert-info\">\n",
    "\n",
    "Search for a different city in the world other than Downtown Los Angeles. It can be where you're from, where you're living, or a place you want to travel to.\n",
    "</div>"
   ]
  },
  {
   "cell_type": "code",
   "execution_count": null,
   "metadata": {
    "slideshow": {
     "slide_type": "fragment"
    }
   },
   "outputs": [],
   "source": [
    "address = 'Downtown, Los Angeles, CA'"
   ]
  },
  {
   "cell_type": "code",
   "execution_count": null,
   "metadata": {
    "slideshow": {
     "slide_type": "fragment"
    }
   },
   "outputs": [],
   "source": [
    "%%time\n",
    "# %%time is a magic command to see how long it takes this cell to run \n",
    "\n",
    "# get the data from OSM that are tagged as 'building' for a 1000m X 1000m square area\n",
    "osm = ox.features.features_from_address(address,tags={'building':True},dist=1000)"
   ]
  },
  {
   "cell_type": "markdown",
   "metadata": {
    "slideshow": {
     "slide_type": "slide"
    }
   },
   "source": [
    "<div class=\"alert alert-danger\">\n",
    "    \n",
    "<h2>Be careful!</h2>\n",
    "\n",
    "Buildings are the \"heaviest\" data types to download, as they often encompass thousands of polygons. While you are technically capable of downloading buildings for entire neighborhoods and cities, doing so can easily overwhelm your notebook. Start small, and scale up!\n",
    "</div>"
   ]
  },
  {
   "cell_type": "code",
   "execution_count": null,
   "metadata": {
    "slideshow": {
     "slide_type": "slide"
    }
   },
   "outputs": [],
   "source": [
    "# how many rows and columns?\n",
    "osm.shape"
   ]
  },
  {
   "cell_type": "code",
   "execution_count": null,
   "metadata": {
    "slideshow": {
     "slide_type": "fragment"
    }
   },
   "outputs": [],
   "source": [
    "# what is the datatype?\n",
    "type(osm)\n"
   ]
  },
  {
   "cell_type": "code",
   "execution_count": null,
   "metadata": {
    "scrolled": true,
    "slideshow": {
     "slide_type": "slide"
    }
   },
   "outputs": [],
   "source": [
    "# show me 10 random rows\n",
    "osm.sample(10)"
   ]
  },
  {
   "cell_type": "markdown",
   "metadata": {
    "slideshow": {
     "slide_type": "slide"
    }
   },
   "source": [
    "## Eliminate unnecessary columns\n",
    "The dataframe has 100+ columns. Let's explore what these are, and which ones are necessary for our use."
   ]
  },
  {
   "cell_type": "markdown",
   "metadata": {
    "slideshow": {
     "slide_type": "slide"
    }
   },
   "source": [
    "What are the datatypes and count of null values?"
   ]
  },
  {
   "cell_type": "code",
   "execution_count": null,
   "metadata": {
    "scrolled": true,
    "slideshow": {
     "slide_type": "fragment"
    }
   },
   "outputs": [],
   "source": [
    "osm.info(verbose=True, show_counts=True)"
   ]
  },
  {
   "cell_type": "markdown",
   "metadata": {
    "slideshow": {
     "slide_type": "slide"
    }
   },
   "source": [
    "Really, what we need is just..."
   ]
  },
  {
   "cell_type": "code",
   "execution_count": null,
   "metadata": {
    "slideshow": {
     "slide_type": "fragment"
    }
   },
   "outputs": [],
   "source": [
    "## subset it\n",
    "columns_to_keep = ['geometry','building','height']\n",
    "osm = osm[columns_to_keep]\n",
    "osm.head(10)"
   ]
  },
  {
   "cell_type": "markdown",
   "metadata": {
    "slideshow": {
     "slide_type": "slide"
    }
   },
   "source": [
    "### Cleaning up unspecified building types"
   ]
  },
  {
   "cell_type": "markdown",
   "metadata": {},
   "source": [
    "Wait, what is the \"yes\" building type? According to OSM's wiki page, this is a building of \"[unspecific type](https://wiki.openstreetmap.org/wiki/Tag:building%3Dyes)\", used when someone is unable or unwilling to tag it more specifically.\n",
    "\n",
    "With this in mind, let's change \"yes\" to \"unspecified\". To do so, we will use the `.loc` function as documented [here](https://www.geeksforgeeks.org/how-to-replace-values-in-column-based-on-condition-in-pandas/)"
   ]
  },
  {
   "cell_type": "code",
   "execution_count": null,
   "metadata": {
    "slideshow": {
     "slide_type": "fragment"
    }
   },
   "outputs": [],
   "source": [
    "# locate cells in column building where value is yes\n",
    "osm.loc[osm['building']=='yes','building'] = 'unspecified'"
   ]
  },
  {
   "cell_type": "markdown",
   "metadata": {
    "slideshow": {
     "slide_type": "slide"
    }
   },
   "source": [
    "# Make a building type chart\n",
    "\n",
    "Let's create a dataframe for building types. We can do this with a nifty series of chained code functions in a single line."
   ]
  },
  {
   "cell_type": "code",
   "execution_count": null,
   "metadata": {},
   "outputs": [],
   "source": [
    "# get the counts of buildings by building type\n",
    "osm_building_counts = osm.value_counts(['building']).reset_index(name=\"count\")\n",
    "osm_building_counts"
   ]
  },
  {
   "cell_type": "markdown",
   "metadata": {
    "slideshow": {
     "slide_type": "slide"
    }
   },
   "source": [
    "## Create a bar chart\n",
    "\n",
    "To start, the simplest method to create a bar plot in python is to simply add `plot.bar` to the dataframe."
   ]
  },
  {
   "cell_type": "code",
   "execution_count": null,
   "metadata": {
    "slideshow": {
     "slide_type": "fragment"
    }
   },
   "outputs": [],
   "source": [
    "# create bar chart with osm buildings where x axis is building count\n",
    "osm_building_counts.plot.bar(x='building');"
   ]
  },
  {
   "cell_type": "markdown",
   "metadata": {
    "slideshow": {
     "slide_type": "slide"
    }
   },
   "source": [
    "Now output it again, but this time, only show the \"Top 10.\"\n",
    "\n",
    "Take the extra mile to make it pretty!"
   ]
  },
  {
   "cell_type": "code",
   "execution_count": null,
   "metadata": {
    "slideshow": {
     "slide_type": "fragment"
    }
   },
   "outputs": [],
   "source": [
    "# create matplotlib bar chart with detailed title and x and y axis labels\n",
    "\n",
    "# create empty figure and axex where dataframe will be plotted\n",
    "fig, ax = plt.subplots(figsize=(12,4))\n",
    "\n",
    "# plot top ten building types with counts \n",
    "osm_building_counts[:10].plot.bar(ax=ax,\n",
    "                                      x='building',\n",
    "                                      y='count',\n",
    "                                      legend=False,\n",
    "                                      color='dodgerblue'\n",
    "                                      )\n",
    "\n",
    "ax.set_xlabel('Building Type') # override x label\n",
    "ax.set_ylabel('Number of buildings') # override y label\n",
    "ax.set_title(\"Top 10 building types\\n\"+address,fontsize=14,pad=10); # multi-line title with padding"
   ]
  },
  {
   "cell_type": "markdown",
   "metadata": {
    "slideshow": {
     "slide_type": "slide"
    }
   },
   "source": [
    "### Going the extra \"extra\" mile\n",
    "\n",
    "The chart that was just created uses Matplotlib, which has long been a standard in Python libraries. \n",
    "\n",
    "Here we introduce [plotly](https://plotly.com/python/bar-charts/) as the charting library, which comes with preconfigured thematic \"[templates](https://plotly.com/python/templates/)\" that allow us to generate various charts with differing design principles.\n",
    "\n",
    "In the code cell below, you can replace \"plotly_white\" with any of the following values to experiment with different designs for your charts.\n",
    "\n",
    "Choose from:\n",
    "- `ggplot2`\n",
    "- `seaborn`\n",
    "- `simple_white`\n",
    "- `plotly`,\n",
    "- `plotly_white`\n",
    "- `plotly_dark`\n",
    "- `presentation`\n",
    "- `xgridoff`,\n",
    "- `ygridoff`\n",
    "- `gridon`\n",
    "- `none`"
   ]
  },
  {
   "cell_type": "code",
   "execution_count": null,
   "metadata": {
    "slideshow": {
     "slide_type": "slide"
    }
   },
   "outputs": [],
   "source": [
    "# import the themes\n",
    "import plotly.io as pio\n",
    "\n",
    "# import the themes\n",
    "import plotly.io as pio\n",
    "\n",
    "# list the templates available\n",
    "pio.templates"
   ]
  },
  {
   "cell_type": "code",
   "execution_count": null,
   "metadata": {},
   "outputs": [],
   "source": [
    "# set default template to plotly_white\n",
    "pio.templates.default = \"plotly_white\""
   ]
  },
  {
   "cell_type": "code",
   "execution_count": null,
   "metadata": {
    "slideshow": {
     "slide_type": "slide"
    }
   },
   "outputs": [],
   "source": [
    "# bar chart\n",
    "fig = px.bar(osm_building_counts.head(10),\n",
    "        x='building',\n",
    "        y='count',\n",
    "        title=\"Top 10 building types in \"+address, # title\n",
    "        text_auto = True,\n",
    "        height=600,\n",
    "        width=900,\n",
    "        color_discrete_sequence =['slategray']*len(osm_building_counts), # single color for all the bars\n",
    "        labels={\n",
    "                'count': 'Number of buildngs',\n",
    "                'building': 'Type of building',\n",
    "        })\n",
    "\n",
    "# bar label\n",
    "fig.update_traces(textposition='outside',textfont_size=10,textfont_color='#444')\n",
    "\n",
    "# axes labels\n",
    "fig.update_yaxes(title_font_size=12,title_font_color='#aaa',tickfont_color='#aaa',tickfont_size=9)\n",
    "fig.update_xaxes(title_font_size=10,title_font_color='#aaa',tickfont_color='#aaa',tickfont_size=9)\n",
    "\n",
    "# show the figure\n",
    "fig.show()"
   ]
  },
  {
   "cell_type": "markdown",
   "metadata": {
    "slideshow": {
     "slide_type": "slide"
    }
   },
   "source": [
    "<div class=\"alert alert-info\">\n",
    "\n",
    "Now it's your turn! With your area of interest, anywhere in the world, create a bar plot of building types.\n",
    "    \n",
    "Take a screengrab or save the resulting image using ```plt.savefig('city-name.png')```, and paste it into this <a href=\"https://docs.google.com/document/d/1cySh-_fXGkniGJXrztM-ZNtDETmTYunWp4ZbMCOEJ2s/edit?usp=sharing\" target=\"_blank\">Google Document</a>.\n",
    "</div>"
   ]
  },
  {
   "cell_type": "markdown",
   "metadata": {
    "slideshow": {
     "slide_type": "slide"
    }
   },
   "source": [
    "# Geopandas Map Plots\n",
    "\n",
    "Let's return to the original OSM data we downloaded. Remember that the OSMnx `geometries_from_address` command returned a geodataframe of buildings. Let's plot them:"
   ]
  },
  {
   "cell_type": "code",
   "execution_count": null,
   "metadata": {
    "slideshow": {
     "slide_type": "slide"
    }
   },
   "outputs": [],
   "source": [
    "# plot entire dataset\n",
    "osm.plot(figsize=(10,10))"
   ]
  },
  {
   "cell_type": "code",
   "execution_count": null,
   "metadata": {
    "slideshow": {
     "slide_type": "slide"
    }
   },
   "outputs": [],
   "source": [
    "# plot a single random building\n",
    "osm.sample(1).plot()"
   ]
  },
  {
   "cell_type": "markdown",
   "metadata": {
    "slideshow": {
     "slide_type": "slide"
    }
   },
   "source": [
    "## Color coding buildings\n",
    "Use the `column` argument to assign a column in the dataframe to color the polygons. If the column is numerical, it will poduce a numerically sequential map. If the column is categorical, it will produce a categorically colored map (a different color assigned to each distinct category).\n",
    "\n",
    "You can use the `cmap` argument to assign a color palette. Find all the available options for `cmap` here:\n",
    "- https://matplotlib.org/3.1.1/gallery/color/colormap_reference.html"
   ]
  },
  {
   "cell_type": "code",
   "execution_count": null,
   "metadata": {
    "slideshow": {
     "slide_type": "slide"
    }
   },
   "outputs": [],
   "source": [
    "osm.plot(figsize=(10,10),\n",
    "         column='building',\n",
    "         cmap='tab20',\n",
    "         legend=True)"
   ]
  },
  {
   "cell_type": "markdown",
   "metadata": {
    "slideshow": {
     "slide_type": "slide"
    }
   },
   "source": [
    "## Clean up: Add a title, move the legend, remove axis\n",
    "\n",
    "### Move the legend\n",
    "\n",
    "Moving the legend is surprisingly difficult to do. There are two key/value pairs that you need to pass using the `legend_kwds` argument. The `loc` and `bbox_to_anchor` values allow you to locate the legend outside the plot. Here is a good explanation of how that is done:\n",
    "\n",
    "* https://stackoverflow.com/questions/4700614/how-to-put-the-legend-out-of-the-plot/43439132#43439132\n",
    "\n",
    "### Add a title\n",
    "Use `ax.set_title()` to add a title to the chart.\n",
    "\n",
    "### Remove the axis\n",
    "\n",
    "Turn off the axis with the `ax.axis('off')` statement.\n",
    "\n"
   ]
  },
  {
   "cell_type": "code",
   "execution_count": null,
   "metadata": {
    "slideshow": {
     "slide_type": "slide"
    }
   },
   "outputs": [],
   "source": [
    "fig, ax = plt.subplots(figsize=(10,10))\n",
    "\n",
    "# create the map plot\n",
    "osm.plot(ax=ax,\n",
    "         column='building',\n",
    "         cmap='tab20',\n",
    "         legend=True,\n",
    "         legend_kwds={'loc':'upper left','bbox_to_anchor':(1,.9)})\n",
    "\n",
    "# add a title\n",
    "ax.set_title('Building types in ' + address)\n",
    "\n",
    "# get rid of the axis\n",
    "ax.axis('off');"
   ]
  },
  {
   "cell_type": "markdown",
   "metadata": {
    "slideshow": {
     "slide_type": "slide"
    }
   },
   "source": [
    "### Taking it to the next level\n",
    "\n",
    "Choropleth maps are created, and left to be... as-is. Ask yourself, will your audience be able to get the most out of your graphic? In fact, choropleth maps are all too often seen as a means to an end, when in fact, they are perhaps the biggest cartographic overuse. Instead, solicit your audience through the use of binary maps, which allow the eyes to more easily detect patterns, convey visual information with greater clarity, and are frankly,  aesthically engaging.\n",
    "\n",
    "Consider that your graph is a two-dimensional map of an urban space that shows the relationship between what something is and what it is not, built and unbuilt spaces. Using a solid black infill for certain spaces and a light gray color for other spaces mimics a historically popular design approach known as the figure-ground diagram, popularized by urban artists from the 17th century. Consider the specter of Giambattista Nolli's plan of Rome in 1748:\n",
    "\n",
    "<img src=\"images/Nolli 1748.jpeg\">"
   ]
  },
  {
   "cell_type": "markdown",
   "metadata": {
    "slideshow": {
     "slide_type": "slide"
    }
   },
   "source": [
    "In more modern times, figure-ground diagrams have been used to depict urban morphology, the study of the formation of human habitats and their transformation of urban form over time. Modern urbanists such as Geoff Boeing (author of the OSMNX library used in this session) have coined the term \"data-driven urban morphology\" by combining big data and computation to explore urban spaces through the modeling of spatial data. The sudden and open availability of OSM data for locations all over the world have enabled practitioners to visualize urban phenomena across cities.\n",
    "\n",
    "<img src=\"images/urban morphology.jpg\" width=600>\n",
    "\n",
    "Image from \"[Spatial information and the legibility of urban form: Big data in urban morphology](ttps://www.sciencedirect.com/science/article/pii/S0268401219302154),\" Geoff Boeing, 2021. One square mile of each city’s street network and building footprints, comparing US cities to informal settlements in the Global South."
   ]
  },
  {
   "cell_type": "markdown",
   "metadata": {
    "slideshow": {
     "slide_type": "slide"
    }
   },
   "source": [
    "With just a few weeks under our belts as spatial data scientists, do we dare presume to generate similar graphics of interest? Let's give it a shot.\n",
    "\n",
    "Goal: To create a series of maps, with each map highlighting a single building type as a figure-ground diagram."
   ]
  },
  {
   "cell_type": "markdown",
   "metadata": {
    "slideshow": {
     "slide_type": "slide"
    }
   },
   "source": [
    "### Step 1: Calculate the map bounds of your data\n",
    "\n",
    "In order to make sure that each map has the same extent (bounds), assign the min/max x/y's using the `total_bounds` function ([documentation](https://geopandas.org/en/stable/docs/reference/api/geopandas.GeoSeries.total_bounds.html))."
   ]
  },
  {
   "cell_type": "code",
   "execution_count": null,
   "metadata": {
    "slideshow": {
     "slide_type": "fragment"
    }
   },
   "outputs": [],
   "source": [
    "# get min/max bounds of lat/lon\n",
    "minx = osm.total_bounds[0]\n",
    "miny = osm.total_bounds[1]\n",
    "maxx = osm.total_bounds[2]\n",
    "maxy = osm.total_bounds[3]"
   ]
  },
  {
   "cell_type": "markdown",
   "metadata": {
    "slideshow": {
     "slide_type": "slide"
    }
   },
   "source": [
    "### Step 2: Create a building type list\n",
    "\n",
    "Use the `unique()` function to find distinct building types, and put it in a python list."
   ]
  },
  {
   "cell_type": "code",
   "execution_count": null,
   "metadata": {},
   "outputs": [],
   "source": [
    "# get unique buiding types in a list\n",
    "buildingtypes = osm['building'].unique().tolist()\n",
    "buildingtypes"
   ]
  },
  {
   "cell_type": "markdown",
   "metadata": {
    "slideshow": {
     "slide_type": "slide"
    }
   },
   "source": [
    "### Step 3: Create a loop for each buidling type\n",
    "\n",
    "Now that we have the list of building types, we can loop through each building type and create individual maps. \n",
    "\n",
    "**Beware** Loops are super powerful operations in any programming language. Make sure that what you ask is *reasonable* to the computational resources available."
   ]
  },
  {
   "cell_type": "code",
   "execution_count": null,
   "metadata": {
    "scrolled": false,
    "slideshow": {
     "slide_type": "slide"
    }
   },
   "outputs": [],
   "source": [
    "# loop through building types\n",
    "for type in buildingtypes:\n",
    "    fig, ax = plt.subplots(figsize=(4,4))\n",
    "\n",
    "    # create the map plot\n",
    "    osm.plot(ax=ax,\n",
    "            # column='building',\n",
    "            color='#eee')\n",
    "\n",
    "    # create the map plot\n",
    "    osm[osm['building'] == type].plot(ax=ax,\n",
    "            # column='building',\n",
    "            color='black')\n",
    "\n",
    "    # set the extent of the map \n",
    "    # so that each map has the same bounds\n",
    "    ax.set_xlim((minx,maxx))\n",
    "    ax.set_ylim((miny,maxy))\n",
    "\n",
    "    # add a title\n",
    "    number_of_buildings = len(osm[osm['building']==type])\n",
    "    ax.set_title(str(number_of_buildings) + ' ' + type + ' buildings')\n",
    "\n",
    "    # get rid of the axis\n",
    "    ax.axis('off');\n"
   ]
  },
  {
   "cell_type": "markdown",
   "metadata": {
    "slideshow": {
     "slide_type": "slide"
    }
   },
   "source": [
    "## Add a basemap\n",
    "\n",
    "Adding a basemap to a geopandas plot can be done using the contextily library. To do so, you must:\n",
    "\n",
    "* reproject your geodataframe to Web Mercator (epsg: 3857)\n",
    "* add a basemap, use the following guidelines: https://github.com/geopandas/contextily"
   ]
  },
  {
   "cell_type": "code",
   "execution_count": null,
   "metadata": {
    "slideshow": {
     "slide_type": "fragment"
    }
   },
   "outputs": [],
   "source": [
    "# reproject to Web Mercator\n",
    "osm_web_mercator = osm.to_crs(epsg=3857)"
   ]
  },
  {
   "cell_type": "code",
   "execution_count": null,
   "metadata": {
    "slideshow": {
     "slide_type": "slide"
    }
   },
   "outputs": [],
   "source": [
    "fig,ax = plt.subplots(figsize=(10,10))\n",
    "\n",
    "osm_web_mercator.plot(ax=ax,\n",
    "                    color=\"black\",\n",
    "                    alpha=0.8,\n",
    "                    )\n",
    "\n",
    "# get rid of the axis\n",
    "ax.axis('off');\n",
    "\n",
    "# basemap from carto that has a dark background (easier to see)\n",
    "ctx.add_basemap(ax=ax,\n",
    "                source=ctx.providers.CartoDB.Positron,\n",
    "                alpha=0.3 # add transparency to make it less dominant\n",
    "                )"
   ]
  },
  {
   "cell_type": "markdown",
   "metadata": {},
   "source": [
    "<div class=\"alert alert-info\">\n",
    "\n",
    "Create a map plot of building types for your place of interest.\n",
    "    \n",
    "Take a screengrab or save the resulting image with ```plt.savefig('city-name.png')```, and paste it into this <a href=\"https://docs.google.com/document/d/1cySh-_fXGkniGJXrztM-ZNtDETmTYunWp4ZbMCOEJ2s/edit?usp=sharing\" target=\"_blank\">Google Document</a>.\n",
    "</div>"
   ]
  },
  {
   "cell_type": "markdown",
   "metadata": {
    "slideshow": {
     "slide_type": "slide"
    }
   },
   "source": [
    "# Create a function\n",
    "\n",
    "Whew! That was a lot of work to finally get our building map for a given location. But what if you wanted to repeat this process for *multiple* locations?\n",
    "\n",
    "Welcome to the world of functions. According to [W3Schools](https://www.w3schools.com/python/python_functions.asp), a python function is:\n",
    "* A function is a block of code which only runs when it is called.\n",
    "* You can pass data, known as parameters, into a function.\n",
    "* A function can return data as a result.\n",
    "\n",
    "In other words, you create a function (a block of code that does something), and it remains dormant until you call on it. For this lab, let's create a function that creates a building map based on location data that you pass into it."
   ]
  },
  {
   "cell_type": "code",
   "execution_count": null,
   "metadata": {
    "slideshow": {
     "slide_type": "slide"
    }
   },
   "outputs": [],
   "source": [
    "# let's make this function together\n",
    "def your_name():    \n",
    "    print('My name is Ren')"
   ]
  },
  {
   "cell_type": "code",
   "execution_count": null,
   "metadata": {
    "slideshow": {
     "slide_type": "fragment"
    }
   },
   "outputs": [],
   "source": [
    "# call it\n",
    "your_name()"
   ]
  },
  {
   "cell_type": "code",
   "execution_count": null,
   "metadata": {
    "slideshow": {
     "slide_type": "slide"
    }
   },
   "outputs": [],
   "source": [
    "# modify the function to accept arguments\n",
    "def your_name(name):\n",
    "    print('My name is ' + name)"
   ]
  },
  {
   "cell_type": "code",
   "execution_count": null,
   "metadata": {
    "slideshow": {
     "slide_type": "fragment"
    }
   },
   "outputs": [],
   "source": [
    "# call it\n",
    "your_name()"
   ]
  },
  {
   "cell_type": "code",
   "execution_count": null,
   "metadata": {
    "slideshow": {
     "slide_type": "fragment"
    }
   },
   "outputs": [],
   "source": [
    "# call it correctly\n",
    "your_name('Carolyn')\n",
    "\n",
    "# or (does the same thing)\n",
    "your_name(name='Carolyn')"
   ]
  },
  {
   "cell_type": "code",
   "execution_count": null,
   "metadata": {
    "slideshow": {
     "slide_type": "slide"
    }
   },
   "outputs": [],
   "source": [
    "# add additional parameters\n",
    "def your_name(firstname, lastname):\n",
    "    print('My name is ' + firstname + ' ' + lastname)"
   ]
  },
  {
   "cell_type": "code",
   "execution_count": null,
   "metadata": {
    "slideshow": {
     "slide_type": "fragment"
    }
   },
   "outputs": [],
   "source": [
    "your_name('Erik','Felix')"
   ]
  },
  {
   "cell_type": "code",
   "execution_count": null,
   "metadata": {
    "slideshow": {
     "slide_type": "slide"
    }
   },
   "outputs": [],
   "source": [
    "# provide default values\n",
    "def your_name(firstname = 'Michael', lastname = 'Jordan'):\n",
    "    print('My name is ' + firstname + ' ' + lastname)"
   ]
  },
  {
   "cell_type": "code",
   "execution_count": null,
   "metadata": {
    "slideshow": {
     "slide_type": "fragment"
    }
   },
   "outputs": [],
   "source": [
    "# call it with no arguments\n",
    "your_name()"
   ]
  },
  {
   "cell_type": "code",
   "execution_count": null,
   "metadata": {
    "slideshow": {
     "slide_type": "fragment"
    }
   },
   "outputs": [],
   "source": [
    "# call it with one argument\n",
    "your_name(firstname = 'Emma')"
   ]
  },
  {
   "cell_type": "code",
   "execution_count": null,
   "metadata": {
    "slideshow": {
     "slide_type": "slide"
    }
   },
   "outputs": [],
   "source": [
    "# you can also do computations\n",
    "def f_to_c(f):\n",
    "    c = (f-32)*5/9 \n",
    "    return c"
   ]
  },
  {
   "cell_type": "code",
   "execution_count": null,
   "metadata": {
    "slideshow": {
     "slide_type": "fragment"
    }
   },
   "outputs": [],
   "source": [
    "f_to_c(80)"
   ]
  },
  {
   "cell_type": "markdown",
   "metadata": {
    "slideshow": {
     "slide_type": "slide"
    }
   },
   "source": [
    "## Create a function that generates a map based on any location"
   ]
  },
  {
   "cell_type": "markdown",
   "metadata": {
    "slideshow": {
     "slide_type": "slide"
    }
   },
   "source": [
    "### The anatomy of the function\n",
    "\n",
    "<img src=\"images/function.png\">"
   ]
  },
  {
   "cell_type": "code",
   "execution_count": null,
   "metadata": {
    "slideshow": {
     "slide_type": "slide"
    }
   },
   "outputs": [],
   "source": [
    "# function to create a map using open street map\n",
    "def make_building_map(location):\n",
    " \n",
    "    # get the data from osm\n",
    "    osm = ox.features.features_from_address(location,\n",
    "                                     tags={'building':True},\n",
    "                                     dist=500)\n",
    "    \n",
    "    # create the figure as a subplot\n",
    "    fig,ax = plt.subplots(figsize=(6,6))\n",
    "    \n",
    "    # add the map\n",
    "    osm.plot(ax=ax,\n",
    "                        color=\"black\",\n",
    "                        alpha=0.8,\n",
    "                        )\n",
    "\n",
    "    # add a title\n",
    "    ax.set_title(location)\n",
    "\n",
    "    # get rid of the axis\n",
    "    ax.axis('off')    "
   ]
  },
  {
   "cell_type": "code",
   "execution_count": null,
   "metadata": {
    "slideshow": {
     "slide_type": "slide"
    }
   },
   "outputs": [],
   "source": [
    "%%time \n",
    "# a \"magic\" function to display the time it took to run this cell\n",
    "# run the function once\n",
    "make_building_map('rome')"
   ]
  },
  {
   "cell_type": "markdown",
   "metadata": {
    "slideshow": {
     "slide_type": "slide"
    }
   },
   "source": [
    "# Looping through it\n",
    "\n",
    "To make the use of functions even more effective, let's create a list of addresses."
   ]
  },
  {
   "cell_type": "code",
   "execution_count": null,
   "metadata": {
    "slideshow": {
     "slide_type": "fragment"
    }
   },
   "outputs": [],
   "source": [
    "address_list = ['downtown los angeles','new york','kyoto','monrovia','paris','new delhi']"
   ]
  },
  {
   "cell_type": "code",
   "execution_count": null,
   "metadata": {
    "slideshow": {
     "slide_type": "slide"
    }
   },
   "outputs": [],
   "source": [
    "%%time\n",
    "# run our function for every address in our list\n",
    "for address in address_list:\n",
    "    make_building_map(address)"
   ]
  },
  {
   "cell_type": "markdown",
   "metadata": {
    "slideshow": {
     "slide_type": "slide"
    }
   },
   "source": [
    "# Doing other searches\n",
    "\n",
    "For this lab, we used the tags argument: `'building':True`. This indicates a desire to download *all* buildings for the given geography. There are many other options to filter what you download from OSM. \n",
    "\n",
    "* https://wiki.openstreetmap.org/wiki/Map_Features\n",
    "\n",
    "Examples calls to intake features from OSM:\n",
    "\n",
    "```python\n",
    "# for all buildings (could be a very large query)\n",
    "features = ox.geometries_from_address(place, tags={'building': True})\n",
    "\n",
    "# for specific buildings\n",
    "features = ox.geometries_from_address(place, tags={'building': ['retail','industrial','commercial']})\n",
    "\n",
    "# for amenities\n",
    "features = ox.geometries_from_address(place, tags={'amenity': ['restaurant','fast_food']})\n",
    "\n",
    "# for leisure spaces\n",
    "features = ox.geometries_from_address(place, tags={'leisure': ['park']})\n",
    "```\n",
    "\n",
    "Note that when you perform a different search based on a different type of tag, **you may not get the same columns back**. You will need to adjust the code in this lab to reflect the columns that are returned. For example, a tag for \"leisure\" may not return \"buildings\", and instead, you may want to color code the map by the column \"leisure.\""
   ]
  }
 ],
 "metadata": {
  "celltoolbar": "Slideshow",
  "kernelspec": {
   "display_name": "Python 3 (ipykernel)",
   "language": "python",
   "name": "python3"
  },
  "language_info": {
   "codemirror_mode": {
    "name": "ipython",
    "version": 3
   },
   "file_extension": ".py",
   "mimetype": "text/x-python",
   "name": "python",
   "nbconvert_exporter": "python",
   "pygments_lexer": "ipython3",
   "version": "3.11.0"
  },
  "toc": {
   "base_numbering": 1,
   "nav_menu": {},
   "number_sections": true,
   "sideBar": true,
   "skip_h1_title": false,
   "title_cell": "Table of Contents",
   "title_sidebar": "Contents",
   "toc_cell": true,
   "toc_position": {
    "height": "calc(100% - 180px)",
    "left": "10px",
    "top": "150px",
    "width": "383.969px"
   },
   "toc_section_display": true,
   "toc_window_display": false
  },
  "vscode": {
   "interpreter": {
    "hash": "a6f97620323956135125d97ca3cfa81b2e752106e2996f191eab2ef4078f4063"
   }
  }
 },
 "nbformat": 4,
 "nbformat_minor": 4
}
