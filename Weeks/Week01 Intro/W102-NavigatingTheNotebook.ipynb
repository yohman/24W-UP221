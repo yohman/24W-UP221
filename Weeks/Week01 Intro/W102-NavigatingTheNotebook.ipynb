{
 "cells": [
  {
   "cell_type": "markdown",
   "metadata": {
    "slideshow": {
     "slide_type": "slide"
    }
   },
   "source": [
    "# Navigating Jupyter Lab\n",
    "\n",
    "<img src=\"images/lab.png\" width=600>"
   ]
  },
  {
   "cell_type": "markdown",
   "metadata": {
    "slideshow": {
     "slide_type": "slide"
    }
   },
   "source": [
    "## File Browser\n",
    "\n",
    "<img src=\"images/folders.png\" width=600>\n",
    "\n",
    "* This is your Jupyter \"cloud\" space. You can create and/or upload notebooks, markdown files, images, csv files, shapefiles, etc.\n",
    "* The 21F-UP206A folder is a clone of the class repository. You can open and run the files here, but know that files may be updated in coming weeks. It is recommended that you do not modify any files in future weeks. If you want, you can copy the file, and then work with the copied version.\n",
    "* You can create your own folders to store your project files here\n",
    "* You can also clone your own repo here (more on this later)"
   ]
  },
  {
   "cell_type": "markdown",
   "metadata": {
    "slideshow": {
     "slide_type": "slide"
    }
   },
   "source": [
    "### Menu bar\n",
    "\n",
    "<img src=\"images/menu.png\" width=\"600\">\n",
    "\n",
    "* contains actions for the notebook, its cells, and the kernel"
   ]
  },
  {
   "cell_type": "markdown",
   "metadata": {
    "slideshow": {
     "slide_type": "slide"
    }
   },
   "source": [
    "### Tool bar\n",
    "\n",
    "<img src=\"images/tool.png\" width=600>\n",
    "\n",
    "* buttons for common actions\n",
    "* hover over a button for info"
   ]
  },
  {
   "cell_type": "markdown",
   "metadata": {
    "slideshow": {
     "slide_type": "fragment"
    }
   },
   "source": [
    "### Execution Modes\n",
    "* **Edit mode**:  changing the content within a cell\n",
    "  \n",
    "  \n",
    "* **Command mode**:  performing actions on the notebook as a whole\n",
    "\n"
   ]
  },
  {
   "cell_type": "code",
   "execution_count": null,
   "metadata": {
    "slideshow": {
     "slide_type": "fragment"
    }
   },
   "outputs": [],
   "source": [
    "# Make this cell go back and forth between edit and command mode\n",
    "# add more content"
   ]
  },
  {
   "cell_type": "markdown",
   "metadata": {
    "slideshow": {
     "slide_type": "slide"
    }
   },
   "source": [
    "### Types of cells\n",
    "\n",
    "* **Code** and **Markdown**"
   ]
  },
  {
   "cell_type": "code",
   "execution_count": null,
   "metadata": {},
   "outputs": [],
   "source": [
    "# This is a code cell"
   ]
  },
  {
   "cell_type": "markdown",
   "metadata": {},
   "source": [
    "## This is a markdown cell"
   ]
  },
  {
   "cell_type": "markdown",
   "metadata": {
    "slideshow": {
     "slide_type": "slide"
    }
   },
   "source": [
    "### We will come back to markdown, but first:  Running Code\n",
    "\n",
    "First and foremost, the Jupyter Notebook is an interactive environment for writing and running code. The notebook is capable of running code in a wide range of languages. \n",
    "\n",
    "Each notebook is associated with a single kernel.  This notebook is associated with the IPython kernel and therefore runs Python code."
   ]
  },
  {
   "cell_type": "markdown",
   "metadata": {
    "slideshow": {
     "slide_type": "fragment"
    }
   },
   "source": [
    "### Code cells allow you to enter and run code\n",
    "\n",
    "Run a code cell using `Shift-Enter` or pressing the ![run](../images/run.png) button in the toolbar above:"
   ]
  },
  {
   "cell_type": "code",
   "execution_count": 3,
   "metadata": {
    "slideshow": {
     "slide_type": "fragment"
    }
   },
   "outputs": [],
   "source": [
    "a = 100"
   ]
  },
  {
   "cell_type": "code",
   "execution_count": 4,
   "metadata": {
    "slideshow": {
     "slide_type": "fragment"
    }
   },
   "outputs": [
    {
     "name": "stdout",
     "output_type": "stream",
     "text": [
      "100\n"
     ]
    }
   ],
   "source": [
    "print(a)"
   ]
  },
  {
   "cell_type": "markdown",
   "metadata": {
    "slideshow": {
     "slide_type": "slide"
    }
   },
   "source": [
    "There are two other keyboard shortcuts for running code:\n",
    "\n",
    "* `Alt-Enter` runs the current cell and inserts a new one below.\n",
    "* `Ctrl-Enter` run the current cell and enters command mode."
   ]
  },
  {
   "cell_type": "markdown",
   "metadata": {
    "slideshow": {
     "slide_type": "slide"
    }
   },
   "source": [
    "### Markdown cells allow you to enter marked-up text for descriptions, equations, etc."
   ]
  },
  {
   "cell_type": "markdown",
   "metadata": {},
   "source": [
    "(double-click on this cell to see the markdown text)\n",
    "\n",
    "*Italic* and **bold** text\n",
    "\n",
    "* Bullet lists\n",
    "* or numbered lists\n",
    "  1. like 1\n",
    "  1. or 2\n",
    "  1. or 3\n",
    "\n",
    "Inline equations like $e^{i\\pi} = -1$ or displayed equations like $$e^x = \\sum_{i=0}^{\\infty} \\frac{x^i}{i!}$$\n",
    "\n",
    "Or links, like to a [markdown cheatsheet](https://github.com/adam-p/markdown-here/wiki/Markdown-Cheatsheet)"
   ]
  },
  {
   "cell_type": "markdown",
   "metadata": {
    "slideshow": {
     "slide_type": "slide"
    }
   },
   "source": [
    "### Restarting the kernels\n",
    "\n",
    "<img src=\"images/kernelmenu.png\" width=400>\n",
    "\n",
    "The kernel maintains the state of a notebook's computations. You can reset this state by restarting the kernel. This is done by clicking on the <button class='btn btn-default btn-xs'><i class='fa fa-repeat icon-repeat'></i></button> in the toolbar above."
   ]
  },
  {
   "cell_type": "markdown",
   "metadata": {
    "slideshow": {
     "slide_type": "slide"
    }
   },
   "source": [
    "### Run menu\n",
    "\n",
    "<img src=\"images/run.png\" width=400>\n"
   ]
  },
  {
   "cell_type": "markdown",
   "metadata": {
    "slideshow": {
     "slide_type": "slide"
    }
   },
   "source": [
    "### Large outputs\n",
    "\n",
    "To better handle large outputs, the output area can be collapsed. Run the following cell and then click on the blue bar to the left of the output:"
   ]
  },
  {
   "cell_type": "code",
   "execution_count": null,
   "metadata": {
    "tags": []
   },
   "outputs": [],
   "source": [
    "for i in range(100):\n",
    "    print(i)"
   ]
  },
  {
   "cell_type": "markdown",
   "metadata": {
    "slideshow": {
     "slide_type": "slide"
    }
   },
   "source": [
    "Try it with the following output:"
   ]
  },
  {
   "cell_type": "code",
   "execution_count": null,
   "metadata": {
    "tags": []
   },
   "outputs": [],
   "source": [
    "for i in range(500):\n",
    "    print(2**i - 1)"
   ]
  },
  {
   "cell_type": "markdown",
   "metadata": {
    "jupyter": {
     "source_hidden": true
    },
    "slideshow": {
     "slide_type": "slide"
    },
    "tags": []
   },
   "source": [
    "### Useful keyboard shortcuts\n",
    "\n",
    "key | action\n",
    "--- | ---\n",
    "shift-enter | execute a cell and go to the next cell\n",
    "alt-enter | execute a cell and stay on the same cell\n",
    "A | add a cell above\n",
    "B | add a cell below\n",
    "DD | delete a cell\n",
    "ctrl+shift+dash | split a cell at the cursor\n",
    "x | cut a cell\n",
    "c | copy a cell\n",
    "v | paste a cell\n",
    "shift+l | show line numbers in a code cell"
   ]
  },
  {
   "cell_type": "markdown",
   "metadata": {
    "slideshow": {
     "slide_type": "slide"
    },
    "tags": []
   },
   "source": [
    "### Table of contents\n",
    "\n",
    "<img src=\"images/toc.png\" width=600>\n",
    "\n",
    "Make use of the table of contents. This feature automatically detects markdown headers and creates a linked table of contents."
   ]
  },
  {
   "cell_type": "markdown",
   "metadata": {},
   "source": [
    "# Reference:  \n",
    "* Take the time to learn more about the Jupyter Lab interface [here](https://jupyterlab.readthedocs.io/en/latest/)\n"
   ]
  }
 ],
 "metadata": {
  "anaconda-cloud": {},
  "celltoolbar": "Slideshow",
  "kernelspec": {
   "display_name": "Python 3 (ipykernel)",
   "language": "python",
   "name": "python3"
  },
  "language_info": {
   "codemirror_mode": {
    "name": "ipython",
    "version": 3
   },
   "file_extension": ".py",
   "mimetype": "text/x-python",
   "name": "python",
   "nbconvert_exporter": "python",
   "pygments_lexer": "ipython3",
   "version": "3.9.6"
  },
  "toc": {
   "base_numbering": 1,
   "nav_menu": {},
   "number_sections": true,
   "sideBar": true,
   "skip_h1_title": false,
   "title_cell": "Table of Contents",
   "title_sidebar": "Contents",
   "toc_cell": false,
   "toc_position": {},
   "toc_section_display": true,
   "toc_window_display": false
  }
 },
 "nbformat": 4,
 "nbformat_minor": 4
}
