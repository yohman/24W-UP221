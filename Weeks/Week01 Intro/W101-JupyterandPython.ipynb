{
 "cells": [
  {
   "cell_type": "markdown",
   "metadata": {
    "toc": true
   },
   "source": [
    "<h1>Table of Contents<span class=\"tocSkip\"></span></h1>\n",
    "<div class=\"toc\"><ul class=\"toc-item\"><li><span><a href=\"#Acknowledgement\" data-toc-modified-id=\"Acknowledgement-1\"><span class=\"toc-item-num\">1&nbsp;&nbsp;</span>Acknowledgement</a></span></li><li><span><a href=\"#What-is-Jupyter?-Where-is-it?\" data-toc-modified-id=\"What-is-Jupyter?-Where-is-it?-2\"><span class=\"toc-item-num\">2&nbsp;&nbsp;</span>What is Jupyter? Where is it?</a></span><ul class=\"toc-item\"><li><span><a href=\"#Using-Jupyter-Notebooks\" data-toc-modified-id=\"Using-Jupyter-Notebooks-2.1\"><span class=\"toc-item-num\">2.1&nbsp;&nbsp;</span>Using Jupyter Notebooks</a></span></li><li><span><a href=\"#Navigating-the-Notebook\" data-toc-modified-id=\"Navigating-the-Notebook-2.2\"><span class=\"toc-item-num\">2.2&nbsp;&nbsp;</span>Navigating the Notebook</a></span></li></ul></li><li><span><a href=\"#Python\" data-toc-modified-id=\"Python-3\"><span class=\"toc-item-num\">3&nbsp;&nbsp;</span>Python</a></span><ul class=\"toc-item\"><li><span><a href=\"#What-is-Python?-How-does-it-work?\" data-toc-modified-id=\"What-is-Python?-How-does-it-work?-3.1\"><span class=\"toc-item-num\">3.1&nbsp;&nbsp;</span>What is Python? How does it work?</a></span></li><li><span><a href=\"#Hello-world\" data-toc-modified-id=\"Hello-world-3.2\"><span class=\"toc-item-num\">3.2&nbsp;&nbsp;</span>Hello world</a></span></li><li><span><a href=\"#Comments\" data-toc-modified-id=\"Comments-3.3\"><span class=\"toc-item-num\">3.3&nbsp;&nbsp;</span>Comments</a></span></li><li><span><a href=\"#Math\" data-toc-modified-id=\"Math-3.4\"><span class=\"toc-item-num\">3.4&nbsp;&nbsp;</span>Math</a></span></li><li><span><a href=\"#Modules\" data-toc-modified-id=\"Modules-3.5\"><span class=\"toc-item-num\">3.5&nbsp;&nbsp;</span>Modules</a></span></li><li><span><a href=\"#Variables\" data-toc-modified-id=\"Variables-3.6\"><span class=\"toc-item-num\">3.6&nbsp;&nbsp;</span>Variables</a></span></li><li><span><a href=\"#DIY:-Converting-celcius-to-Fahrenheit\" data-toc-modified-id=\"DIY:-Converting-celcius-to-Fahrenheit-3.7\"><span class=\"toc-item-num\">3.7&nbsp;&nbsp;</span>DIY: Converting celcius to Fahrenheit</a></span></li><li><span><a href=\"#Updating-variables\" data-toc-modified-id=\"Updating-variables-3.8\"><span class=\"toc-item-num\">3.8&nbsp;&nbsp;</span>Updating variables</a></span></li><li><span><a href=\"#Getting-help\" data-toc-modified-id=\"Getting-help-3.9\"><span class=\"toc-item-num\">3.9&nbsp;&nbsp;</span>Getting help</a></span></li><li><span><a href=\"#Data-types\" data-toc-modified-id=\"Data-types-3.10\"><span class=\"toc-item-num\">3.10&nbsp;&nbsp;</span>Data types</a></span></li><li><span><a href=\"#Strings\" data-toc-modified-id=\"Strings-3.11\"><span class=\"toc-item-num\">3.11&nbsp;&nbsp;</span>Strings</a></span></li><li><span><a href=\"#Converting-between-types\" data-toc-modified-id=\"Converting-between-types-3.12\"><span class=\"toc-item-num\">3.12&nbsp;&nbsp;</span>Converting between types</a></span></li><li><span><a href=\"#Lists\" data-toc-modified-id=\"Lists-3.13\"><span class=\"toc-item-num\">3.13&nbsp;&nbsp;</span>Lists</a></span></li><li><span><a href=\"#Converting-list-elements\" data-toc-modified-id=\"Converting-list-elements-3.14\"><span class=\"toc-item-num\">3.14&nbsp;&nbsp;</span>Converting list elements</a></span></li></ul></li><li><span><a href=\"#A-Map-Teaser\" data-toc-modified-id=\"A-Map-Teaser-4\"><span class=\"toc-item-num\">4&nbsp;&nbsp;</span>A Map Teaser</a></span></li><li><span><a href=\"#Resources\" data-toc-modified-id=\"Resources-5\"><span class=\"toc-item-num\">5&nbsp;&nbsp;</span>Resources</a></span></li></ul></div>"
   ]
  },
  {
   "cell_type": "markdown",
   "metadata": {
    "slideshow": {
     "slide_type": "slide"
    }
   },
   "source": [
    "<div class=\"alert alert-danger\">\n",
    "    \n",
    "This class will be recorded.\n",
    "    \n",
    "</div>"
   ]
  },
  {
   "cell_type": "markdown",
   "metadata": {
    "slideshow": {
     "slide_type": "slide"
    }
   },
   "source": [
    "# Week 1: Jupyter and Python\n",
    "## Acknowledgement\n",
    "The material for this notebook has been partially borrowed from [Geoff Boeing's](https://geoffboeing.com/) Module 3 notebook for his \"[Data, Evidence, and Communication for the Public Good](https://github.com/gboeing/ppd534)\" course taught at USC and from [Geo-Python](https://geo-python-site.readthedocs.io/en/latest/), an online course taught by the Department of Geosciences and Geography at the University of Helsinki."
   ]
  },
  {
   "cell_type": "markdown",
   "metadata": {
    "slideshow": {
     "slide_type": "slide"
    }
   },
   "source": [
    "## What is Jupyter? Where is it?\n",
    "![Jupyter](../images/jupyter.jpeg)\n",
    "\n",
    "([Image source](https://hackingandslacking.com/running-jupyter-notebooks-on-a-ubuntu-server-b7b2cb88a986))\n",
    "\n",
    "Welcome to [Jupyter Notebooks](https://jupyter.org/). Class lectures, code instructions, and student interactions will all be handled through this Jupyter Notebook interface. "
   ]
  },
  {
   "cell_type": "markdown",
   "metadata": {
    "slideshow": {
     "slide_type": "slide"
    }
   },
   "source": [
    "![Jupyter](../images/jupyter1.png)\n"
   ]
  },
  {
   "cell_type": "markdown",
   "metadata": {
    "slideshow": {
     "slide_type": "slide"
    }
   },
   "source": [
    "![Jupyter](../images/jupyter2.png)"
   ]
  },
  {
   "cell_type": "markdown",
   "metadata": {
    "slideshow": {
     "slide_type": "slide"
    }
   },
   "source": [
    "<!-- ![Jupyter](../images/jupyter3.png) -->\n",
    "<img src=\"../images/jupyter3.png\" width=100%>"
   ]
  },
  {
   "cell_type": "markdown",
   "metadata": {
    "slideshow": {
     "slide_type": "slide"
    }
   },
   "source": [
    "Jupyter Notebooks\n",
    "- originally iPython Notebooks\n",
    "- web-based interface that is \"human\" friendly for programming\n",
    "- \"literate programming\" pioneered by Stanford computer scientist Donald Knuth\n",
    "- a series of interactive \"cells\" that contain executable code"
   ]
  },
  {
   "cell_type": "markdown",
   "metadata": {
    "slideshow": {
     "slide_type": "slide"
    }
   },
   "source": [
    "### Using Jupyter Notebooks\n",
    "There are two ways to use Jupyter Notebooks for this class. \n",
    "\n",
    "1. Recommended: [IDRE's Jupyter Hub](https://jupyter.idre.ucla.edu/): The first and recommended option is to use the class Jupyter Hub server that is hosted by IDRE. You will need to use your UCLA multi-factor authentication to login.\n",
    "1. Advanced Users: The second option is to install Jupyter yourself on your local machines. I recommend you use [Anaconda](https://www.anaconda.com/products/individual). This has many pitfalls, in that each machine is configured differently, and may have difficulties mirroring the needed environments to run applications smoothly and in sync with the class. However, this may be recommended for more advanced users, and those who are comfortable working with the command prompt, setting up conda environments, and installing and updating necessary python libraries. Note that if you choose to run your own local jupyter environment for this course, support will be limited!"
   ]
  },
  {
   "cell_type": "markdown",
   "metadata": {
    "slideshow": {
     "slide_type": "slide"
    }
   },
   "source": [
    "### Navigating the Notebook\n",
    "\n",
    "*  Launch the other notebook, `W102-NavigatingTheNotebook.ipynb` to learn how to use this Jupyter interface.\n"
   ]
  },
  {
   "cell_type": "markdown",
   "metadata": {
    "slideshow": {
     "slide_type": "slide"
    }
   },
   "source": [
    "## Python\n",
    "\n",
    "### What is Python? How does it work?\n",
    "\n",
    "<img src=\"../images/python-hello-world.png\" width=800>"
   ]
  },
  {
   "cell_type": "markdown",
   "metadata": {
    "slideshow": {
     "slide_type": "slide"
    }
   },
   "source": [
    "\n",
    "- it is a \"high level\" language, meaning that it abstracts underlying computer technical details\n",
    "- it is multi-purpose\n",
    "- it is the most popular coding language in the world"
   ]
  },
  {
   "cell_type": "markdown",
   "metadata": {
    "slideshow": {
     "slide_type": "slide"
    }
   },
   "source": [
    "- it has a standard library, and numerous third party libraries\n",
    "- here are some of the third party libraries you will work with:\n",
    "   - [pandas](https://pandas.pydata.org/docs/#), for data analysis\n",
    "   - [geopandas](https://geopandas.org/gallery/index.html), for geospatial data analaysis\n",
    "   - [sodapy](https://github.com/xmunoz/sodapy), for grabbing open data from socrata clients\n",
    "   - [folium](https://python-visualization.github.io/folium/), for interactive maps based on leaflet\n",
    "   - [osmnx](https://geoffboeing.com/2016/11/osmnx-python-street-networks/), for grabbing open street map data for network analysis\n",
    "   - [keplergl](https://kepler.gl/), for 3D mapping data analytics"
   ]
  },
  {
   "cell_type": "markdown",
   "metadata": {
    "slideshow": {
     "slide_type": "slide"
    }
   },
   "source": [
    "### Hello world\n",
    "Have you always wanted to type \"hello world\" to begin a new coding adventure? This is your opportunity to do so. In the cell bellow, simply type those words and hit `shift + enter`"
   ]
  },
  {
   "cell_type": "code",
   "execution_count": 2,
   "metadata": {
    "slideshow": {
     "slide_type": "fragment"
    }
   },
   "outputs": [
    {
     "name": "stdout",
     "output_type": "stream",
     "text": [
      "hello class 2024\n"
     ]
    }
   ],
   "source": [
    "print('hello class 2024')"
   ]
  },
  {
   "cell_type": "markdown",
   "metadata": {
    "slideshow": {
     "slide_type": "fragment"
    }
   },
   "source": [
    "Welcome to your first python function, `print()`. You are passing an argument to the print command that Python interprets and decides what to do with. Get used to this syntax: \"Lights, camera, action!\", \"Command, brackets, arguments!\""
   ]
  },
  {
   "cell_type": "markdown",
   "metadata": {
    "slideshow": {
     "slide_type": "slide"
    }
   },
   "source": [
    "### Comments\n",
    "\n",
    "You can ask any rational coder, and they will all agree that good code is determined by how well documented it is. Documentation is often judged by how much an author uses comments within the code. "
   ]
  },
  {
   "cell_type": "code",
   "execution_count": null,
   "metadata": {},
   "outputs": [],
   "source": [
    "# this is a comment. the python interpreter ignores it.\n",
    "# comments are just notes for humans to read to help understand the code\n",
    "# best practice: add a comment for every couple lines of code to explain what's going on and why\n",
    "# you'd be amazed at how quickly you forget your code's logic (at least i always do)"
   ]
  },
  {
   "cell_type": "markdown",
   "metadata": {
    "slideshow": {
     "slide_type": "slide"
    }
   },
   "source": [
    "### Math\n",
    "Out of the box, Python knows math too. \n",
    "\n",
    "The list of basic arithmetic operations that can be done by default in Python is in the table below.\n",
    "\n",
    "| Operation      | Symbol | Example syntax | Returned value |\n",
    "| -------------- | ------ | -------------- | -------------- |\n",
    "| Addition       | `+`    | `2 + 2`        | `4`            |\n",
    "| Subtraction    | `-`    | `4 - 2`        | `2`            |\n",
    "| Multiplication | `*`    | `2 * 3`        | `6`            | \n",
    "| Division       | `/`    | `4 / 2`        | `2`            |\n",
    "| Exponentiation | `**`   | `2**3`         | `8`            |\n"
   ]
  },
  {
   "cell_type": "code",
   "execution_count": 3,
   "metadata": {
    "slideshow": {
     "slide_type": "slide"
    }
   },
   "outputs": [
    {
     "data": {
      "text/plain": [
       "1001"
      ]
     },
     "execution_count": 3,
     "metadata": {},
     "output_type": "execute_result"
    }
   ],
   "source": [
    "# add two integers\n",
    "1+1000"
   ]
  },
  {
   "cell_type": "code",
   "execution_count": 4,
   "metadata": {
    "scrolled": true,
    "slideshow": {
     "slide_type": "fragment"
    }
   },
   "outputs": [
    {
     "data": {
      "text/plain": [
       "3.6666666666666665"
      ]
     },
     "execution_count": 4,
     "metadata": {},
     "output_type": "execute_result"
    }
   ],
   "source": [
    "# divide two integers to get a floating number\n",
    "11/3"
   ]
  },
  {
   "cell_type": "code",
   "execution_count": 5,
   "metadata": {
    "jupyter": {
     "outputs_hidden": false
    },
    "slideshow": {
     "slide_type": "fragment"
    }
   },
   "outputs": [
    {
     "data": {
      "text/plain": [
       "6"
      ]
     },
     "execution_count": 5,
     "metadata": {},
     "output_type": "execute_result"
    }
   ],
   "source": [
    "# multiply two integers\n",
    "2 * 3"
   ]
  },
  {
   "cell_type": "markdown",
   "metadata": {
    "slideshow": {
     "slide_type": "slide"
    }
   },
   "source": [
    "<div class=\"alert alert-info\">\n",
    "    Try it yourself! Enter some math commands. Which ones work, and which don't?\n",
    "</div>"
   ]
  },
  {
   "cell_type": "code",
   "execution_count": 7,
   "metadata": {},
   "outputs": [
    {
     "data": {
      "text/plain": [
       "2.0"
      ]
     },
     "execution_count": 7,
     "metadata": {},
     "output_type": "execute_result"
    }
   ],
   "source": [
    "(1+1) * (3/3)"
   ]
  },
  {
   "cell_type": "markdown",
   "metadata": {
    "slideshow": {
     "slide_type": "slide"
    }
   },
   "source": [
    "### Modules\n",
    "For anything more advanced, we need to load a *module*. For math operations, this module is called *math* and it can be loaded by typing ``import math``. Try that below."
   ]
  },
  {
   "cell_type": "code",
   "execution_count": 8,
   "metadata": {},
   "outputs": [],
   "source": [
    "import math"
   ]
  },
  {
   "cell_type": "markdown",
   "metadata": {
    "slideshow": {
     "slide_type": "slide"
    }
   },
   "source": [
    "Once a module is loaded, the notebook inherits all the functions that come with it. In other words, your project has become that much more capable, expanded with cabilities based on the inherited module."
   ]
  },
  {
   "cell_type": "code",
   "execution_count": 9,
   "metadata": {
    "jupyter": {
     "outputs_hidden": false
    }
   },
   "outputs": [
    {
     "data": {
      "text/plain": [
       "0.1411200080598672"
      ]
     },
     "execution_count": 9,
     "metadata": {},
     "output_type": "execute_result"
    }
   ],
   "source": [
    "math.sin(3)"
   ]
  },
  {
   "cell_type": "code",
   "execution_count": 10,
   "metadata": {
    "jupyter": {
     "outputs_hidden": false
    }
   },
   "outputs": [
    {
     "data": {
      "text/plain": [
       "2.0"
      ]
     },
     "execution_count": 10,
     "metadata": {},
     "output_type": "execute_result"
    }
   ],
   "source": [
    "math.sqrt(4)"
   ]
  },
  {
   "cell_type": "markdown",
   "metadata": {
    "slideshow": {
     "slide_type": "slide"
    }
   },
   "source": [
    "Let's summarize what we've just seen with modules:\n",
    "\n",
    "1. A *module* is a group of code items such as functions that are related to one another. Individual modules are often in a group referred to as a *library*.\n",
    "\n",
    "2. Modules can be loaded using ``import``. Functions that are part of the module ``modulename`` can then be used by typing ``modulename.functionname()``. For example, ``sin()`` is a function that is part of the ``math`` module, and used by typing ``math.sin()`` with some number between the parentheses.\n",
    "\n",
    "3. Within a given Jupyter Notebook the variables you define earlier in the notebook will be available for use in the cells that follow as long as you have already executed the cells.\n",
    "\n",
    "4. Modules may also contain constants such as ``math.pi``. Type this in the cell below to see the value of the contant ``math.pi``."
   ]
  },
  {
   "cell_type": "code",
   "execution_count": null,
   "metadata": {},
   "outputs": [],
   "source": [
    "math.pi"
   ]
  },
  {
   "cell_type": "markdown",
   "metadata": {
    "slideshow": {
     "slide_type": "slide"
    }
   },
   "source": [
    "### Variables\n",
    "\n",
    "*Variables* can be used to store values calculated in expressions and used for other calculations. Assigning value to variables is straightforward. To assign a value, you simply type ``variable_name = value``, where ``variable_name`` is the name of the variable you wish to define. "
   ]
  },
  {
   "cell_type": "code",
   "execution_count": null,
   "metadata": {
    "jupyter": {
     "outputs_hidden": false
    },
    "slideshow": {
     "slide_type": "slide"
    }
   },
   "outputs": [],
   "source": [
    "# variables, such as x here, contain values and their values can vary\n",
    "x = 5"
   ]
  },
  {
   "cell_type": "code",
   "execution_count": null,
   "metadata": {
    "jupyter": {
     "outputs_hidden": false
    },
    "slideshow": {
     "slide_type": "fragment"
    }
   },
   "outputs": [],
   "source": [
    "# what is the value of x?\n",
    "x"
   ]
  },
  {
   "cell_type": "code",
   "execution_count": null,
   "metadata": {
    "jupyter": {
     "outputs_hidden": false
    },
    "slideshow": {
     "slide_type": "fragment"
    }
   },
   "outputs": [],
   "source": [
    "# you can perform operations on variables, just like you can on two numbers\n",
    "x + 3"
   ]
  },
  {
   "cell_type": "code",
   "execution_count": null,
   "metadata": {
    "jupyter": {
     "outputs_hidden": false
    },
    "slideshow": {
     "slide_type": "fragment"
    }
   },
   "outputs": [],
   "source": [
    "# what is the value of x now?\n",
    "x"
   ]
  },
  {
   "cell_type": "code",
   "execution_count": null,
   "metadata": {
    "jupyter": {
     "outputs_hidden": false
    },
    "slideshow": {
     "slide_type": "slide"
    }
   },
   "outputs": [],
   "source": [
    "# to update the value of a variable, you need to do an assignment again\n",
    "x = x + 3"
   ]
  },
  {
   "cell_type": "code",
   "execution_count": null,
   "metadata": {
    "jupyter": {
     "outputs_hidden": false
    },
    "slideshow": {
     "slide_type": "fragment"
    }
   },
   "outputs": [],
   "source": [
    "# and now what is the value of x?\n",
    "x"
   ]
  },
  {
   "cell_type": "code",
   "execution_count": null,
   "metadata": {
    "jupyter": {
     "outputs_hidden": false
    },
    "slideshow": {
     "slide_type": "fragment"
    }
   },
   "outputs": [],
   "source": [
    "# create a new variable y from an operation on x\n",
    "x = 5\n",
    "y = x * 2\n",
    "y"
   ]
  },
  {
   "cell_type": "code",
   "execution_count": null,
   "metadata": {
    "jupyter": {
     "outputs_hidden": false
    },
    "slideshow": {
     "slide_type": "fragment"
    }
   },
   "outputs": [],
   "source": [
    "# outputting values only displays the last thing output\n",
    "# this is different from printing! it is kinda confusing!\n",
    "x\n",
    "y"
   ]
  },
  {
   "cell_type": "code",
   "execution_count": null,
   "metadata": {
    "jupyter": {
     "outputs_hidden": false
    },
    "slideshow": {
     "slide_type": "slide"
    }
   },
   "outputs": [],
   "source": [
    "# use print to write some value(s) to the \"console\"\n",
    "print(x)\n",
    "print(y)"
   ]
  },
  {
   "cell_type": "code",
   "execution_count": null,
   "metadata": {
    "jupyter": {
     "outputs_hidden": false
    },
    "slideshow": {
     "slide_type": "fragment"
    }
   },
   "outputs": [],
   "source": [
    "# you can comma-separate values to print multiple values to the console on one line\n",
    "# note that this syntax automatically adds a space between variables\n",
    "print(x,y)"
   ]
  },
  {
   "cell_type": "code",
   "execution_count": null,
   "metadata": {
    "jupyter": {
     "outputs_hidden": false
    },
    "slideshow": {
     "slide_type": "fragment"
    }
   },
   "outputs": [],
   "source": [
    "# you can also print the result of an expression\n",
    "print(x * y)"
   ]
  },
  {
   "cell_type": "code",
   "execution_count": null,
   "metadata": {
    "slideshow": {
     "slide_type": "slide"
    }
   },
   "outputs": [],
   "source": [
    "# can you print and concatenate a number and a string?\n",
    "print('x is ' + x)"
   ]
  },
  {
   "cell_type": "code",
   "execution_count": null,
   "metadata": {
    "slideshow": {
     "slide_type": "fragment"
    }
   },
   "outputs": [],
   "source": [
    "# the python print command can only concatenate values of the same type \n",
    "# so you need to convert numeric values to strings\n",
    "print('x is: ' + str(x))"
   ]
  },
  {
   "cell_type": "code",
   "execution_count": null,
   "metadata": {
    "slideshow": {
     "slide_type": "fragment"
    }
   },
   "outputs": [],
   "source": [
    "# alternatively, you can use a comma! \n",
    "# confusing, but do you see the difference?\n",
    "print('x is:', x)"
   ]
  },
  {
   "cell_type": "markdown",
   "metadata": {
    "slideshow": {
     "slide_type": "slide"
    }
   },
   "source": [
    "<div class=\"alert alert-info\">\n",
    "    \n",
    "Now it's your turn. In a single line, create a new variable `z` and set it equal to `x` divided the sum of `x` plus `y`. Then, print the result of what z is.\n",
    "\n",
    "</div>"
   ]
  },
  {
   "cell_type": "code",
   "execution_count": null,
   "metadata": {},
   "outputs": [],
   "source": []
  },
  {
   "cell_type": "markdown",
   "metadata": {
    "slideshow": {
     "slide_type": "slide"
    }
   },
   "source": [
    "### DIY: Converting celcius to Fahrenheit\n",
    "In the cell below, define a variable called ``temp_celsius``, assign it a value of `3.0`, and then print that variable value using the ``print()`` function. Note that you need to do this on two separate lines."
   ]
  },
  {
   "cell_type": "code",
   "execution_count": null,
   "metadata": {
    "jupyter": {
     "outputs_hidden": false
    }
   },
   "outputs": [],
   "source": [
    "temp_celsius = 3.0\n",
    "print(temp_celsius)"
   ]
  },
  {
   "cell_type": "markdown",
   "metadata": {
    "slideshow": {
     "slide_type": "slide"
    }
   },
   "source": [
    "As we did above, you can combine text and even use some math when printing out variable values. The idea is similar to the examples of adding 2+2 or calculating the square root of four from the previous section. "
   ]
  },
  {
   "cell_type": "markdown",
   "metadata": {},
   "source": [
    "<div class=\"alert alert-info\">\n",
    "    \n",
    "In the cell below, print out the value of ``temp_celsius`` in degrees Fahrenheit by multiplying ``temp_celsius`` by 9/5 and adding 32. This should be done within the ``print()`` function to produce output that reads ``Temperature in Fahrenheit: ??``.\n",
    "    \n",
    "</div>"
   ]
  },
  {
   "cell_type": "code",
   "execution_count": null,
   "metadata": {
    "jupyter": {
     "outputs_hidden": false
    }
   },
   "outputs": [],
   "source": [
    "print('Temperature in Fahrenheit:',temp_celsius *(9/5) +32)"
   ]
  },
  {
   "cell_type": "markdown",
   "metadata": {
    "slideshow": {
     "slide_type": "slide"
    }
   },
   "source": [
    "### Updating variables\n",
    "\n",
    "Values stored in variables can also be updated. Let's redefine the value of ``temp_celsius`` to be equal to 15.0 and print its value in the cells below. You can also say that you have overridden the previous value with a new one."
   ]
  },
  {
   "cell_type": "code",
   "execution_count": null,
   "metadata": {},
   "outputs": [],
   "source": [
    "temp_celsius = 15.0"
   ]
  },
  {
   "cell_type": "code",
   "execution_count": null,
   "metadata": {
    "jupyter": {
     "outputs_hidden": false
    }
   },
   "outputs": [],
   "source": [
    "print('temperature in Celsius is now:', temp_celsius)"
   ]
  },
  {
   "cell_type": "markdown",
   "metadata": {
    "slideshow": {
     "slide_type": "slide"
    }
   },
   "source": [
    "<div class=\"alert alert-warning\">\n",
    "\n",
    "**Warning**\n",
    "\n",
    "If you try to run some code that accesses a variable that has not yet been defined you will get a `NameError` message. Try printing out the value of the variable ``tempFahrenheit`` using the ``print()`` function in the cell below.\n",
    "\n",
    "</div>"
   ]
  },
  {
   "cell_type": "code",
   "execution_count": null,
   "metadata": {
    "jupyter": {
     "outputs_hidden": false
    },
    "tags": [
     "raises-exception"
    ]
   },
   "outputs": [],
   "source": [
    "print('Temperature in Celsius:', 5/9 * (tempFahrenheit - 32))"
   ]
  },
  {
   "cell_type": "markdown",
   "metadata": {
    "slideshow": {
     "slide_type": "slide"
    }
   },
   "source": [
    "<div class=\"alert alert-info\">\n",
    "\n",
    "**Note**\n",
    "\n",
    "One of the interesting things here is that if we define the undefined variable in a cell lower down in the notebook and execute that cell, we can return to the earlier cell and the code should now work. That was a bit of a complicated sentence, so let's test this all out. First, let's define a variable called ``tempFahrenheit`` in the cell below and assign it to be equal to ``9/5 * temp_celsius + 32``, the conversion factor from temperatures in Celsius to Fahrenheit. Then, return to the cell above this text and run that cell again. See how the error message has gone away? ``tempFahrenheit`` has now been defined and thus the cell above no longer generates a ``NameError`` when the code is executed.\n",
    "\n",
    "Also, the number beside the cell, for example ``In [2]``, tells you the order in which the Python cells have been executed. This way you can see a history of the order in which you have run the cells.\n",
    "</div>"
   ]
  },
  {
   "cell_type": "code",
   "execution_count": null,
   "metadata": {
    "slideshow": {
     "slide_type": "slide"
    }
   },
   "outputs": [],
   "source": [
    "tempFahrenheit = 9/5 * temp_celsius + 32"
   ]
  },
  {
   "cell_type": "markdown",
   "metadata": {},
   "source": [
    "Just to check their current values, print out the values of ``temp_celsius`` and ``tempFahrenheit`` in the cell below."
   ]
  },
  {
   "cell_type": "code",
   "execution_count": null,
   "metadata": {
    "jupyter": {
     "outputs_hidden": false
    }
   },
   "outputs": [],
   "source": [
    "tempFahrenheit"
   ]
  },
  {
   "cell_type": "markdown",
   "metadata": {
    "slideshow": {
     "slide_type": "slide"
    }
   },
   "source": [
    "### Getting help"
   ]
  },
  {
   "cell_type": "code",
   "execution_count": null,
   "metadata": {
    "jupyter": {
     "outputs_hidden": false
    }
   },
   "outputs": [],
   "source": [
    "# ask ipython for it by using '?'\n",
    "len?"
   ]
  },
  {
   "cell_type": "code",
   "execution_count": null,
   "metadata": {},
   "outputs": [],
   "source": [
    "# click on a function or variable and press shift+tab \n",
    "print()\n",
    "temp_celsius\n",
    "tempFahrenheit"
   ]
  },
  {
   "cell_type": "code",
   "execution_count": null,
   "metadata": {
    "jupyter": {
     "outputs_hidden": false
    },
    "scrolled": true
   },
   "outputs": [],
   "source": [
    "# use tab-completion to fill in the rest of statements, functions, methods\n",
    "tempFahrenheit"
   ]
  },
  {
   "cell_type": "code",
   "execution_count": null,
   "metadata": {
    "jupyter": {
     "outputs_hidden": false
    },
    "slideshow": {
     "slide_type": "slide"
    }
   },
   "outputs": [],
   "source": [
    "# tab-completion also works with variables you have created (ie, a variable in memory)\n",
    "number_of_students = 60"
   ]
  },
  {
   "cell_type": "code",
   "execution_count": null,
   "metadata": {
    "jupyter": {
     "outputs_hidden": false
    }
   },
   "outputs": [],
   "source": [
    "number_of_students"
   ]
  },
  {
   "cell_type": "code",
   "execution_count": null,
   "metadata": {
    "jupyter": {
     "outputs_hidden": false
    },
    "slideshow": {
     "slide_type": "slide"
    }
   },
   "outputs": [],
   "source": [
    "# what about errors? you can't divide by zero...\n",
    "12/0"
   ]
  },
  {
   "cell_type": "markdown",
   "metadata": {},
   "source": [
    "How do you read that \"traceback\" message?\n",
    "\n",
    "For syntax errors or how to do something, Google it! (This is literally 90% of my job...)\n",
    "\n",
    "Also, StackOverflow is a particularly good site for code snippets and troubleshooting: https://stackoverflow.com/"
   ]
  },
  {
   "cell_type": "markdown",
   "metadata": {
    "slideshow": {
     "slide_type": "slide"
    }
   },
   "source": [
    "### Data types\n",
    "\n",
    "There are 4 basic *data types* in Python as shown in the table below.\n",
    "\n",
    "| Data type name | Data type            | Example    |\n",
    "| -------------- | -------------------- | ---------- |\n",
    "| `int`          | Whole integer values | `4`        |\n",
    "| `float`        | Decimal values       | `3.1415`   |\n",
    "| `str`          | Character strings    | `'Hot'`    |\n",
    "| `bool`         | True/false values    | `True`     |\n",
    "\n",
    "The data type can be found using the `type()` function."
   ]
  },
  {
   "cell_type": "code",
   "execution_count": null,
   "metadata": {
    "jupyter": {
     "outputs_hidden": false
    },
    "slideshow": {
     "slide_type": "slide"
    }
   },
   "outputs": [],
   "source": [
    "# integers are whole numbers\n",
    "type(125)"
   ]
  },
  {
   "cell_type": "code",
   "execution_count": null,
   "metadata": {
    "jupyter": {
     "outputs_hidden": false
    },
    "slideshow": {
     "slide_type": "fragment"
    }
   },
   "outputs": [],
   "source": [
    "# every variable has a data type, and they can be of any type\n",
    "x = 125\n",
    "type(x)"
   ]
  },
  {
   "cell_type": "code",
   "execution_count": null,
   "metadata": {
    "jupyter": {
     "outputs_hidden": false
    },
    "slideshow": {
     "slide_type": "fragment"
    }
   },
   "outputs": [],
   "source": [
    "# float is a floating point (aka decimal) number\n",
    "some_rate = 4.3\n",
    "type(some_rate)"
   ]
  },
  {
   "cell_type": "code",
   "execution_count": null,
   "metadata": {
    "jupyter": {
     "outputs_hidden": false
    },
    "slideshow": {
     "slide_type": "fragment"
    }
   },
   "outputs": [],
   "source": [
    "# strings are \"strings\" of characters\n",
    "s = 'abc'\n",
    "type(s)"
   ]
  },
  {
   "cell_type": "code",
   "execution_count": null,
   "metadata": {
    "jupyter": {
     "outputs_hidden": false
    },
    "slideshow": {
     "slide_type": "slide"
    }
   },
   "outputs": [],
   "source": [
    "# a list is a collection of elements denoted by square brackets\n",
    "# it knows it's a list because of those brackets\n",
    "my_list = [1, 2, 3, 4]\n",
    "my_list"
   ]
  },
  {
   "cell_type": "code",
   "execution_count": null,
   "metadata": {
    "jupyter": {
     "outputs_hidden": false
    },
    "slideshow": {
     "slide_type": "fragment"
    }
   },
   "outputs": [],
   "source": [
    "type(my_list)"
   ]
  },
  {
   "cell_type": "code",
   "execution_count": null,
   "metadata": {
    "jupyter": {
     "outputs_hidden": false
    },
    "slideshow": {
     "slide_type": "slide"
    }
   },
   "outputs": [],
   "source": [
    "# a dictionary is a collection of key:value pairs, denoted by curly braces\n",
    "person = {'first_name':'Yoh', 'last_name':'Kawano','hobby':'soccer'}\n",
    "person"
   ]
  },
  {
   "cell_type": "code",
   "execution_count": null,
   "metadata": {
    "jupyter": {
     "outputs_hidden": false
    },
    "slideshow": {
     "slide_type": "fragment"
    }
   },
   "outputs": [],
   "source": [
    "type(person)"
   ]
  },
  {
   "cell_type": "code",
   "execution_count": null,
   "metadata": {
    "slideshow": {
     "slide_type": "fragment"
    }
   },
   "outputs": [],
   "source": [
    "# a dictionary can also be written like this for clarity, and for cases where there are many key:value pairs\n",
    "person = {\n",
    "            'first_name':'Yoh', \n",
    "            'last_name':'Kawano',\n",
    "            'hobbies':'soccer'\n",
    "}"
   ]
  },
  {
   "cell_type": "code",
   "execution_count": null,
   "metadata": {
    "slideshow": {
     "slide_type": "slide"
    }
   },
   "outputs": [],
   "source": [
    "# now you try\n",
    "# create a new dict variable containing the individual components of your home address\n"
   ]
  },
  {
   "cell_type": "code",
   "execution_count": null,
   "metadata": {
    "slideshow": {
     "slide_type": "fragment"
    }
   },
   "outputs": [],
   "source": []
  },
  {
   "cell_type": "markdown",
   "metadata": {
    "slideshow": {
     "slide_type": "slide"
    }
   },
   "source": [
    "### Strings"
   ]
  },
  {
   "cell_type": "code",
   "execution_count": null,
   "metadata": {
    "jupyter": {
     "outputs_hidden": false
    }
   },
   "outputs": [],
   "source": [
    "# some of the operators we saw earlier work on strings\n",
    "city = 'Los Angeles'\n",
    "sep = ', '\n",
    "state = 'CA'\n",
    "zip_code = '90095'\n",
    "\n",
    "# you can \"concatenate\" strings with the + operator\n",
    "location = city + sep + state + ' ' + zip_code\n",
    "print(location)"
   ]
  },
  {
   "cell_type": "markdown",
   "metadata": {
    "slideshow": {
     "slide_type": "slide"
    }
   },
   "source": [
    "Here is a scenario that you will encounter frequently when working with census data FIPS codes. As some of you may know, the FIPS code for the state of California is `06`. The county FIPS code for Los Angeles is `037`. Both happen to have \"leading zeros.\"\n",
    "\n",
    "Try to assign a new variable `state_county_FIPS` to equal `06037` below. What happens?"
   ]
  },
  {
   "cell_type": "code",
   "execution_count": null,
   "metadata": {
    "jupyter": {
     "outputs_hidden": false
    }
   },
   "outputs": [],
   "source": [
    "# error\n",
    "state_county_FIPS = 06037"
   ]
  },
  {
   "cell_type": "markdown",
   "metadata": {
    "slideshow": {
     "slide_type": "slide"
    }
   },
   "source": [
    "How do you fix this problem? \n",
    "\n",
    "Assign the variable as a string, by adding single quotes around its value."
   ]
  },
  {
   "cell_type": "code",
   "execution_count": null,
   "metadata": {
    "slideshow": {
     "slide_type": "fragment"
    }
   },
   "outputs": [],
   "source": [
    "# the FIPS code 06037 isn't actually a number, it's a string of numeric characters\n",
    "# important to remember! FIPS codes aren't numeric, they are strings!\n",
    "state_county_FIPS = '06037'"
   ]
  },
  {
   "cell_type": "code",
   "execution_count": null,
   "metadata": {
    "jupyter": {
     "outputs_hidden": false
    },
    "slideshow": {
     "slide_type": "fragment"
    }
   },
   "outputs": [],
   "source": [
    "# multiplying a string just duplicates it\n",
    "state_county_FIPS * 3"
   ]
  },
  {
   "cell_type": "code",
   "execution_count": null,
   "metadata": {
    "jupyter": {
     "outputs_hidden": false
    },
    "slideshow": {
     "slide_type": "slide"
    }
   },
   "outputs": [],
   "source": [
    "# you can get the nth element from an iterable object (like a string) with [n] indexing notation\n",
    "# remember, in Python the index starts with zero not one\n",
    "print(location)\n",
    "location[0]"
   ]
  },
  {
   "cell_type": "code",
   "execution_count": null,
   "metadata": {
    "slideshow": {
     "slide_type": "fragment"
    }
   },
   "outputs": [],
   "source": [
    "print(location[0])\n",
    "print(location[1])\n",
    "print(location[2])"
   ]
  },
  {
   "cell_type": "code",
   "execution_count": null,
   "metadata": {
    "jupyter": {
     "outputs_hidden": false
    },
    "slideshow": {
     "slide_type": "slide"
    }
   },
   "outputs": [],
   "source": [
    "# how many characters are in this string? use len function\n",
    "len(location)"
   ]
  },
  {
   "cell_type": "code",
   "execution_count": null,
   "metadata": {
    "jupyter": {
     "outputs_hidden": false
    },
    "slideshow": {
     "slide_type": "fragment"
    }
   },
   "outputs": [],
   "source": [
    "# get a substring from some position up to but not including a second position\n",
    "location[4:7]"
   ]
  },
  {
   "cell_type": "code",
   "execution_count": null,
   "metadata": {
    "jupyter": {
     "outputs_hidden": false
    },
    "slideshow": {
     "slide_type": "fragment"
    }
   },
   "outputs": [],
   "source": [
    "# get the first n characters from the string\n",
    "location[:5]"
   ]
  },
  {
   "cell_type": "code",
   "execution_count": null,
   "metadata": {
    "jupyter": {
     "outputs_hidden": false
    },
    "slideshow": {
     "slide_type": "slide"
    }
   },
   "outputs": [],
   "source": [
    "# get the characters from the string after the nth position\n",
    "location[5:]"
   ]
  },
  {
   "cell_type": "code",
   "execution_count": null,
   "metadata": {
    "slideshow": {
     "slide_type": "fragment"
    }
   },
   "outputs": [],
   "source": [
    "# get the final n characters from the string\n",
    "location[-5:]"
   ]
  },
  {
   "cell_type": "code",
   "execution_count": null,
   "metadata": {
    "jupyter": {
     "outputs_hidden": false
    },
    "slideshow": {
     "slide_type": "fragment"
    }
   },
   "outputs": [],
   "source": [
    "# you can replace characters in a string with the replace() method\n",
    "location.replace('e', 'E')"
   ]
  },
  {
   "cell_type": "code",
   "execution_count": null,
   "metadata": {
    "slideshow": {
     "slide_type": "slide"
    }
   },
   "outputs": [],
   "source": [
    "# now it's your turn\n",
    "# create a new string from the 0th, 4th, and 6th characters in location\n"
   ]
  },
  {
   "cell_type": "markdown",
   "metadata": {
    "slideshow": {
     "slide_type": "slide"
    }
   },
   "source": [
    "### Converting between types"
   ]
  },
  {
   "cell_type": "code",
   "execution_count": null,
   "metadata": {
    "jupyter": {
     "outputs_hidden": false
    },
    "slideshow": {
     "slide_type": "-"
    }
   },
   "outputs": [],
   "source": [
    "zip_code"
   ]
  },
  {
   "cell_type": "code",
   "execution_count": null,
   "metadata": {
    "jupyter": {
     "outputs_hidden": false
    },
    "slideshow": {
     "slide_type": "fragment"
    }
   },
   "outputs": [],
   "source": [
    "# you can convert between data types\n",
    "type(zip_code)"
   ]
  },
  {
   "cell_type": "code",
   "execution_count": null,
   "metadata": {
    "jupyter": {
     "outputs_hidden": false
    },
    "slideshow": {
     "slide_type": "fragment"
    }
   },
   "outputs": [],
   "source": [
    "# convert the zip code string to an integer (notice what happens to the single quotes)\n",
    "zip_code = int(zip_code)\n",
    "zip_code"
   ]
  },
  {
   "cell_type": "code",
   "execution_count": null,
   "metadata": {
    "jupyter": {
     "outputs_hidden": false
    },
    "slideshow": {
     "slide_type": "fragment"
    }
   },
   "outputs": [],
   "source": [
    "type(zip_code)"
   ]
  },
  {
   "cell_type": "code",
   "execution_count": null,
   "metadata": {
    "jupyter": {
     "outputs_hidden": false
    },
    "slideshow": {
     "slide_type": "fragment"
    }
   },
   "outputs": [],
   "source": [
    "# the math works better now\n",
    "zip_code * 2"
   ]
  },
  {
   "cell_type": "code",
   "execution_count": null,
   "metadata": {
    "jupyter": {
     "outputs_hidden": false
    },
    "slideshow": {
     "slide_type": "slide"
    }
   },
   "outputs": [],
   "source": [
    "# the int function won't convert a string that looks like a floating point number\n",
    "rent_str = '2500.00'\n",
    "rent_int = int(rent_str)"
   ]
  },
  {
   "cell_type": "code",
   "execution_count": null,
   "metadata": {
    "jupyter": {
     "outputs_hidden": false
    },
    "slideshow": {
     "slide_type": "fragment"
    }
   },
   "outputs": [],
   "source": [
    "# but you can daisy-chain functions together to convert the string to a float then to an int\n",
    "# the inner function executes then passes its value to the outer function\n",
    "rent_int = int(float(rent_str))\n",
    "rent_int"
   ]
  },
  {
   "cell_type": "code",
   "execution_count": null,
   "metadata": {
    "jupyter": {
     "outputs_hidden": false
    },
    "slideshow": {
     "slide_type": "slide"
    }
   },
   "outputs": [],
   "source": [
    "# you cannot concatenate a string and a number\n",
    "city = 'Los Angeles '\n",
    "zip_code = 90089\n",
    "city + zip_code"
   ]
  },
  {
   "cell_type": "code",
   "execution_count": null,
   "metadata": {
    "jupyter": {
     "outputs_hidden": false
    },
    "slideshow": {
     "slide_type": "fragment"
    }
   },
   "outputs": [],
   "source": [
    "# so convert the number first, then concatenate\n",
    "city + str(zip_code)"
   ]
  },
  {
   "cell_type": "code",
   "execution_count": null,
   "metadata": {
    "slideshow": {
     "slide_type": "slide"
    }
   },
   "outputs": [],
   "source": [
    "# now it's your turn\n",
    "# extract the zip code characters from the end of the \"location\" variable and convert to integer\n"
   ]
  },
  {
   "cell_type": "code",
   "execution_count": null,
   "metadata": {},
   "outputs": [],
   "source": []
  },
  {
   "cell_type": "markdown",
   "metadata": {
    "slideshow": {
     "slide_type": "slide"
    }
   },
   "source": [
    "### Lists"
   ]
  },
  {
   "cell_type": "code",
   "execution_count": null,
   "metadata": {
    "ExecuteTime": {
     "end_time": "2020-09-26T20:41:34.380604Z",
     "start_time": "2020-09-26T20:41:34.377656Z"
    }
   },
   "outputs": [],
   "source": [
    "# this is a list\n",
    "my_list = [2, 4, 6, 8]"
   ]
  },
  {
   "cell_type": "code",
   "execution_count": null,
   "metadata": {
    "ExecuteTime": {
     "end_time": "2020-09-26T20:41:37.153318Z",
     "start_time": "2020-09-26T20:41:37.148550Z"
    },
    "jupyter": {
     "outputs_hidden": false
    },
    "slideshow": {
     "slide_type": "fragment"
    }
   },
   "outputs": [],
   "source": [
    "# how many elements are in this list?\n",
    "len(my_list)"
   ]
  },
  {
   "cell_type": "code",
   "execution_count": null,
   "metadata": {
    "ExecuteTime": {
     "end_time": "2020-09-26T20:41:57.205430Z",
     "start_time": "2020-09-26T20:41:57.201343Z"
    },
    "jupyter": {
     "outputs_hidden": false
    },
    "slideshow": {
     "slide_type": "slide"
    }
   },
   "outputs": [],
   "source": [
    "# get the zero-th element in a list\n",
    "my_list[0]"
   ]
  },
  {
   "cell_type": "code",
   "execution_count": null,
   "metadata": {
    "ExecuteTime": {
     "end_time": "2020-09-26T20:44:11.867312Z",
     "start_time": "2020-09-26T20:44:11.862884Z"
    },
    "jupyter": {
     "outputs_hidden": false
    },
    "slideshow": {
     "slide_type": "fragment"
    }
   },
   "outputs": [],
   "source": [
    "# you can update elements in a list because it is mutable\n",
    "my_list[2] = 100\n",
    "my_list"
   ]
  },
  {
   "cell_type": "code",
   "execution_count": null,
   "metadata": {
    "ExecuteTime": {
     "end_time": "2020-09-26T20:44:16.817062Z",
     "start_time": "2020-09-26T20:44:16.812396Z"
    },
    "jupyter": {
     "outputs_hidden": false
    },
    "slideshow": {
     "slide_type": "fragment"
    }
   },
   "outputs": [],
   "source": [
    "# add a new element with the append() method\n",
    "# lists can hold elements of varying data types\n",
    "my_list.append('hello')\n",
    "my_list"
   ]
  },
  {
   "cell_type": "markdown",
   "metadata": {
    "slideshow": {
     "slide_type": "slide"
    }
   },
   "source": [
    "### Converting list elements"
   ]
  },
  {
   "cell_type": "code",
   "execution_count": null,
   "metadata": {},
   "outputs": [],
   "source": [
    "# objective: how do we convert a list of integer values into a list of equivalent string values?\n",
    "# in other words, how do we convert each element in a list to a different data type?\n",
    "# first, let's make a list containing the first 5 even numbers\n",
    "int_list = [2, 4, 6, 8, 10]"
   ]
  },
  {
   "cell_type": "code",
   "execution_count": null,
   "metadata": {
    "slideshow": {
     "slide_type": "fragment"
    }
   },
   "outputs": [],
   "source": [
    "# how many elements are in our list?\n"
   ]
  },
  {
   "cell_type": "code",
   "execution_count": null,
   "metadata": {
    "slideshow": {
     "slide_type": "fragment"
    }
   },
   "outputs": [],
   "source": [
    "# what is the value of the element in the zero-th position of the list?\n"
   ]
  },
  {
   "cell_type": "code",
   "execution_count": null,
   "metadata": {
    "slideshow": {
     "slide_type": "fragment"
    }
   },
   "outputs": [],
   "source": [
    "# what is the data type of this element in the zero-th position?\n"
   ]
  },
  {
   "cell_type": "code",
   "execution_count": null,
   "metadata": {
    "slideshow": {
     "slide_type": "slide"
    }
   },
   "outputs": [],
   "source": [
    "# let's convert that element from an int to a string using the str() function\n",
    "str(int_list[0])"
   ]
  },
  {
   "cell_type": "code",
   "execution_count": null,
   "metadata": {
    "slideshow": {
     "slide_type": "fragment"
    }
   },
   "outputs": [],
   "source": [
    "# let's check the data type that results from that str() function operating on our list element\n",
    "type(str(int_list[0]))"
   ]
  },
  {
   "cell_type": "code",
   "execution_count": null,
   "metadata": {
    "slideshow": {
     "slide_type": "slide"
    }
   },
   "outputs": [],
   "source": [
    "# now we'll create a new list to contain the string versions of our integers\n",
    "str_list = []"
   ]
  },
  {
   "cell_type": "code",
   "execution_count": null,
   "metadata": {
    "slideshow": {
     "slide_type": "fragment"
    }
   },
   "outputs": [],
   "source": [
    "# now let's convert the element in the zero-th position of our int_list to a string\n",
    "# and append it to the new str_list that will contain string values\n",
    "# remember, the way to add a new element to a list is list.append()\n",
    "# we are simply appending the result of the string conversion\n",
    "str_list.append(str(int_list[0]))"
   ]
  },
  {
   "cell_type": "code",
   "execution_count": null,
   "metadata": {
    "slideshow": {
     "slide_type": "fragment"
    }
   },
   "outputs": [],
   "source": [
    "# our str_list should have one element - the value at the zero-th position of int_list, converted to a string\n",
    "str_list"
   ]
  },
  {
   "cell_type": "code",
   "execution_count": null,
   "metadata": {
    "slideshow": {
     "slide_type": "slide"
    }
   },
   "outputs": [],
   "source": [
    "# looks like that worked, so let's convert and append the rest of the values\n",
    "# we know our int_list contains 5 elements from when we ran len() on it earlier\n",
    "# we've already done position 0, now let's do positions 1 - 4\n",
    "str_list.append(str(int_list[1]))\n",
    "str_list.append(str(int_list[2]))\n",
    "str_list.append(str(int_list[3]))\n",
    "str_list.append(str(int_list[4]))"
   ]
  },
  {
   "cell_type": "code",
   "execution_count": null,
   "metadata": {
    "slideshow": {
     "slide_type": "fragment"
    }
   },
   "outputs": [],
   "source": [
    "# let's see our list of strings\n",
    "str_list"
   ]
  },
  {
   "cell_type": "code",
   "execution_count": null,
   "metadata": {
    "slideshow": {
     "slide_type": "fragment"
    }
   },
   "outputs": [],
   "source": [
    "# and for comparison, here's our original list of integers\n",
    "int_list"
   ]
  },
  {
   "cell_type": "code",
   "execution_count": null,
   "metadata": {
    "slideshow": {
     "slide_type": "slide"
    }
   },
   "outputs": [],
   "source": [
    "# what we have seen is a manual way of doing this int -> string conversion\n",
    "# the whole benefit of coding is that we automate this sort of manual work\n",
    "# over the next couple of weeks we'll learn more advanced and efficient techniques like this:\n",
    "new_list = []\n",
    "for value in int_list:\n",
    "    new_list.append(str(value))\n",
    "new_list"
   ]
  },
  {
   "cell_type": "code",
   "execution_count": null,
   "metadata": {
    "slideshow": {
     "slide_type": "fragment"
    }
   },
   "outputs": [],
   "source": [
    "# now you try\n",
    "# write a code snippet to multiply all the items in int_list by 3, then sum the result\n",
    "# note that there are elements to this problem that you may have to google yourself \n"
   ]
  },
  {
   "cell_type": "code",
   "execution_count": null,
   "metadata": {
    "slideshow": {
     "slide_type": "fragment"
    }
   },
   "outputs": [],
   "source": [
    "# now you try\n",
    "# calculate the mean value of int_list\n",
    "# hint: there is no function for mean()... try to do this \"manually\"\n"
   ]
  },
  {
   "cell_type": "markdown",
   "metadata": {
    "slideshow": {
     "slide_type": "slide"
    }
   },
   "source": [
    "## A Map Teaser\n",
    "\n",
    "Exhausted? You bet! Python by itself can be pretty mundane, but things will get better as the weeks go on. So here is a small reward for your hard work..."
   ]
  },
  {
   "cell_type": "code",
   "execution_count": null,
   "metadata": {
    "ExecuteTime": {
     "end_time": "2020-09-26T20:55:04.817895Z",
     "start_time": "2020-09-26T20:55:04.671940Z"
    },
    "slideshow": {
     "slide_type": "slide"
    }
   },
   "outputs": [],
   "source": [
    "# import folium, a leaflet python library\n",
    "import folium\n",
    "\n",
    "# create a list of lat/lon pair for UCLA\n",
    "ucla = [34.0721237,-118.4440685]\n",
    "m = folium.Map(location=ucla, zoom_start=15)\n",
    "m"
   ]
  },
  {
   "cell_type": "code",
   "execution_count": null,
   "metadata": {},
   "outputs": [],
   "source": [
    "m.save('folium.html')"
   ]
  },
  {
   "cell_type": "markdown",
   "metadata": {
    "slideshow": {
     "slide_type": "slide"
    }
   },
   "source": [
    "That was fun, wasn't it? Maps are amongst the most rewarding visualizations in the data science world: instantly accessible, globally understood, and chock-full of data layers.\n",
    "\n",
    "Read the documentation on the Folium module, and create your own maps!\n",
    "\n",
    "https://python-visualization.github.io/folium/quickstart.html"
   ]
  },
  {
   "cell_type": "markdown",
   "metadata": {
    "slideshow": {
     "slide_type": "slide"
    }
   },
   "source": [
    "## Resources\n",
    "- https://geo-python-site.readthedocs.io/\n",
    "- [Folium](https://python-visualization.github.io/folium/quickstart.html)\n"
   ]
  }
 ],
 "metadata": {
  "celltoolbar": "Slideshow",
  "kernelspec": {
   "display_name": "Python 3 (ipykernel)",
   "language": "python",
   "name": "python3"
  },
  "language_info": {
   "codemirror_mode": {
    "name": "ipython",
    "version": 3
   },
   "file_extension": ".py",
   "mimetype": "text/x-python",
   "name": "python",
   "nbconvert_exporter": "python",
   "pygments_lexer": "ipython3",
   "version": "3.11.5"
  },
  "toc": {
   "base_numbering": 1,
   "nav_menu": {},
   "number_sections": true,
   "sideBar": true,
   "skip_h1_title": true,
   "title_cell": "Table of Contents",
   "title_sidebar": "Contents",
   "toc_cell": true,
   "toc_position": {
    "height": "calc(100% - 180px)",
    "left": "10px",
    "top": "150px",
    "width": "319px"
   },
   "toc_section_display": true,
   "toc_window_display": false
  },
  "vscode": {
   "interpreter": {
    "hash": "6f3a6b90b75928055da0f19108388f80ab08f35cf0c332cf7927be5faa57e6ed"
   }
  }
 },
 "nbformat": 4,
 "nbformat_minor": 4
}
