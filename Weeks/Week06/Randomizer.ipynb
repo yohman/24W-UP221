{
 "cells": [
  {
   "cell_type": "markdown",
   "id": "6fe2d959-4b78-4334-a81e-d0f956226973",
   "metadata": {},
   "source": [
    "# Randomizer\n",
    "\n",
    "Who goes first? Let's roll the python dice..."
   ]
  },
  {
   "cell_type": "code",
   "execution_count": 9,
   "id": "74b15397-787f-4269-85c8-fa3f905233e4",
   "metadata": {},
   "outputs": [],
   "source": [
    "import pandas as pd\n",
    "pd.set_option('display.max_colwidth', None)"
   ]
  },
  {
   "cell_type": "code",
   "execution_count": 10,
   "id": "b7140473-71e2-4bc9-942d-f8c3d7b21fff",
   "metadata": {},
   "outputs": [],
   "source": [
    "# Create a data list of students and topics plus names\n",
    "students = [\n",
    "['Climate Group','Aneesa Gomez-Cervantes, Pa-Shun Hawkins, Yu Wang'],\n",
    "['LA County Oil Wells','Madalyn Bryant, Katie Greenler, Myranda Arreola, Luis Garcia Chavez, Divine Mutoni'],\n",
    "['Food Access in LA County','Branden Bohrnsen, Jessica Fay, Madilynn Hamilton, Meaghan Woody'],\n",
    "['Confronting Collisions','Sonia Garfinkel, Fonda Hu, Nick Giorgio, Eisha Shakeel, Leila Moinpour'],\n",
    "['Evictions Resisters','Kristal Ombogo, Jack Fukushima, Daisy Mugodzeri, Roberto Diaz'],\n",
    "['Transit Corridors','Alain Jabbour, Simon Han, Tomohiro Ujikawa, Celine Cao'],\n",
    "['Grid Lock Gurus','Angie Chapman, Jala Abner, Jose Portales, Young Choi'],\n",
    "['Anti-Road Rage','Catherine Ren, Jiaming Zhu, Kailong Ji, Yaofa Gong, Qingyang Xu'],\n",
    "['Planner for Climate Justice','Max Kilman, Allison Kirste, Nasir Sakandar, Jazz Henry'],\n",
    "['NutriNet','Maya Coronado, Savannah Gourley, Ashley Jahja, Xander Lee, Kiran Rao'],\n",
    "['Wildfire','Chendi Zhang'],\n",
    "['Motor City Motor Equity','Akshay Jalluri'],\n",
    "['Park Equity In Unincorporated LA','Miles Kim Parr, Max Garcia, Aydin Pasebani, Annie Chan, Rodrigo Gutierrez']\n",
    "]"
   ]
  },
  {
   "cell_type": "code",
   "execution_count": null,
   "id": "b25c64e1-4aa9-483e-be04-0e5513ef29eb",
   "metadata": {},
   "outputs": [],
   "source": [
    "# add the students to a dataframe\n",
    "df = pd.DataFrame(students, columns=['Topic','Students'])\n",
    "  \n",
    "# print dataframe.\n",
    "df"
   ]
  },
  {
   "cell_type": "code",
   "execution_count": 12,
   "id": "dfc63d9c-d422-427b-a3f1-f4272718de45",
   "metadata": {},
   "outputs": [],
   "source": [
    "# this randomizes the data using .sample\n",
    "# frac stands for fraction of the data to return, \n",
    "# so frac=1 means to return every row\n",
    "df = df.sample(frac=1).reset_index(drop=True)"
   ]
  },
  {
   "attachments": {},
   "cell_type": "markdown",
   "id": "863fd6cc",
   "metadata": {},
   "source": [
    "![drum roll](drum.gif)"
   ]
  },
  {
   "cell_type": "code",
   "execution_count": null,
   "id": "d268e2db-5bef-46dc-aa66-672d336c9ff4",
   "metadata": {},
   "outputs": [],
   "source": [
    "df"
   ]
  },
  {
   "cell_type": "code",
   "execution_count": null,
   "id": "fc9f2fce-45fc-4fd9-888b-122c43b00c58",
   "metadata": {},
   "outputs": [],
   "source": [
    "# But wait, one group needs to go first, so let's add them to the top\n",
    "must_go_first = pd.DataFrame({\n",
    "    'Topic':'Income, Commute Time, and Health',\n",
    "    'Students':'Angie Chapman, Jala Abner, Jose Portales, Young Choi'\n",
    "},index=[0])\n",
    "\n",
    "df=pd.concat([must_go_first,df]).reset_index(drop=True)\n",
    "df\n"
   ]
  },
  {
   "cell_type": "code",
   "execution_count": null,
   "id": "cc81a91f",
   "metadata": {},
   "outputs": [],
   "source": [
    "# drop based on index position of duplicate group\n",
    "df = df.drop(7).reset_index(drop=True)\n",
    "df"
   ]
  }
 ],
 "metadata": {
  "kernelspec": {
   "display_name": "Python 3 (ipykernel)",
   "language": "python",
   "name": "python3"
  },
  "language_info": {
   "codemirror_mode": {
    "name": "ipython",
    "version": 3
   },
   "file_extension": ".py",
   "mimetype": "text/x-python",
   "name": "python",
   "nbconvert_exporter": "python",
   "pygments_lexer": "ipython3",
   "version": "3.11.7"
  },
  "vscode": {
   "interpreter": {
    "hash": "a6f97620323956135125d97ca3cfa81b2e752106e2996f191eab2ef4078f4063"
   }
  }
 },
 "nbformat": 4,
 "nbformat_minor": 5
}
