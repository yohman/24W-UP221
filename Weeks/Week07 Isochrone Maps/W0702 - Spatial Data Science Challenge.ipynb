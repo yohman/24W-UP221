{
 "cells": [
  {
   "attachments": {},
   "cell_type": "markdown",
   "metadata": {},
   "source": [
    "# Spatial Data Science Challenge\n",
    "\n",
    "Let's have a friendly competition. Based on the previous lab, this notebook prepares you to create an \"isochrone mapper\" application. The idea is to create a function (let's name it ```isomap()```) that automatically generates an isochrone map. All you need to do is feed a set of latitude longitude coordinates, and the application (function) should output an isochrone map.\n",
    "\n",
    "First, run the following cell to import the libraries needed for this challenge."
   ]
  },
  {
   "cell_type": "code",
   "execution_count": null,
   "metadata": {},
   "outputs": [],
   "source": [
    "# for spatial data\n",
    "import geopandas as gpd\n",
    "\n",
    "# for plotting\n",
    "import matplotlib.pyplot as plt\n",
    "\n",
    "# for network analysis\n",
    "import networkx as nx\n",
    "\n",
    "# for street network analysis\n",
    "import osmnx as ox\n",
    "\n",
    "# for basemaps\n",
    "import contextily as ctx\n",
    "\n",
    "# to draw custom legend elements, import these libraries\n",
    "from matplotlib.patches import Patch\n",
    "from matplotlib.lines import Line2D"
   ]
  },
  {
   "attachments": {},
   "cell_type": "markdown",
   "metadata": {},
   "source": [
    "Next, inspect the following (long) cell, and run it. It should generate a nice isochrone map "
   ]
  },
  {
   "cell_type": "code",
   "execution_count": null,
   "metadata": {},
   "outputs": [],
   "source": [
    "# configure the place, network type, trip times, and travel speed\n",
    "latlon = [34.059644777881374, -118.27731316248183]\n",
    "network_type = 'walk'\n",
    "trip_times = [10,15] \n",
    "meters_per_minute = 75 # travel distance per minute\n",
    "cmap = 'plasma'\n",
    "title = 'How far can you walk from here?'\n",
    "\n",
    "# download the street network\n",
    "G = ox.graph_from_point(latlon, network_type=network_type, dist = 2000)\n",
    "\n",
    "# project our network data to Web Mercator (measurements are in meters)\n",
    "G = ox.project_graph(G, to_crs='epsg:3857')\n",
    "\n",
    "# convert nodes and edges to geodataframes\n",
    "gdf_nodes, gdf_edges = ox.graph_to_gdfs(G)\n",
    "\n",
    "# get the bounding box coordinates\n",
    "minx, miny, maxx, maxy = gdf_nodes.geometry.total_bounds\n",
    "\n",
    "# calculate the centroid\n",
    "centroid_x = (maxx-minx)/2 + minx\n",
    "centroid_y = (maxy-miny)/2 + miny\n",
    "\n",
    "# use osmnx's distance.nearest_nodes command to get the id for the nearest node\n",
    "center_node = ox.distance.nearest_nodes(G,Y=centroid_y,X=centroid_x)\n",
    "\n",
    "# create a new column, calculate the time it takes to travel that edge\n",
    "gdf_edges['walk_time'] = gdf_edges['length']/meters_per_minute\n",
    "\n",
    "# assign a color hex code for each trip time isochrone\n",
    "iso_colors = ox.plot.get_colors(n=len(trip_times), \n",
    "                                cmap=cmap, \n",
    "                                start=0, \n",
    "                                return_hex=True)\n",
    "\n",
    "# create a list of \"zipped\" time/colors\n",
    "time_color = list(zip(trip_times, iso_colors))\n",
    "\n",
    "# reverse the order so that outside nodes get associated first\n",
    "time_color.reverse()\n",
    "\n",
    "# loop through each trip time and associated color\n",
    "for time, color in list(time_color):\n",
    "\n",
    "    # for each trip time, create an egograph of nodes that fall within that distance\n",
    "    subgraph = nx.ego_graph(G, center_node, radius=time)\n",
    "\n",
    "    # for each of those nodes, update the gdf_nodes dataframe and assign it with its associated distance color\n",
    "    for node in subgraph.nodes():\n",
    "        gdf_nodes.loc[node,'time'] = time\n",
    "        gdf_nodes.loc[node,'color'] = color\n",
    "\n",
    "# the NaN values then need to be populated with a valid color\n",
    "gdf_nodes['color'].fillna('#cccccc', inplace=True)\n",
    "\n",
    "# dissolve the nodes by time\n",
    "# adding the \"time\" argument creates a separate geometry (multipoint in this case) for each unique time category\n",
    "isochrones = gdf_nodes.dissolve(by = \"time\")\n",
    "\n",
    "# for each row, create a convex hull\n",
    "isochrones = isochrones.convex_hull.reset_index(name='geometry')\n",
    "\n",
    "# reverse the order so that outer polygon gets drawn first\n",
    "isochrones.sort_values(by='time', ascending=False,inplace=True)\n",
    "\n",
    "# reverse the colors too!\n",
    "iso_colors.reverse()\n",
    "\n",
    "########################\n",
    "\n",
    "#    Make the map!\n",
    "\n",
    "########################\n",
    "# set up the subplots\n",
    "fig, ax = plt.subplots(figsize=(5,8))\n",
    "\n",
    "# add the isochrone boundary\n",
    "isochrones.boundary.plot(\n",
    "    ax=ax,\n",
    "    alpha=1,\n",
    "    linestyle='--',\n",
    "    color=iso_colors,\n",
    "    lw=2\n",
    "    ) \n",
    "\n",
    "# add the isochrones\n",
    "isochrones.plot(\n",
    "    ax=ax, \n",
    "    alpha=0.2, \n",
    "    categorical=True, # even though it is numeric, treat it as categorical\n",
    "    color=iso_colors,\n",
    "    )\n",
    "\n",
    "# add the center node in red\n",
    "gdf_nodes.loc[[center_node]].plot(\n",
    "    ax=ax,\n",
    "    color='r',\n",
    "    marker='x',\n",
    "    markersize=50\n",
    "    )\n",
    "\n",
    "# build custom legend\n",
    "legend_elements = [\n",
    "    # add the center node to the legend\n",
    "    Line2D([0], [0], marker='x', color='red', linestyle='',label='Walkshed from this location', markersize=6),\n",
    "    ]\n",
    "\n",
    "# sort back to small time to large time\n",
    "# time_color.sort(reverse=False)\n",
    "time_color.reverse()\n",
    "\n",
    "# loop through the list of time/colors and add each to the legend\n",
    "for time,color in list(time_color):\n",
    "    legend_item = Patch(facecolor=color, edgecolor=color, linestyle='--',linewidth=1,label=str(time)+' minutes',alpha=0.4)\n",
    "    legend_elements.append(legend_item)\n",
    "\n",
    "# add the legend\n",
    "ax.legend(handles=legend_elements,loc='lower left') # location options: upper/center/lower and left/center/right\n",
    "\n",
    "# add a title\n",
    "ax.set_title(title,fontsize=15,pad=10)\n",
    "\n",
    "# hide the axis\n",
    "ax.axis('off')\n",
    "\n",
    "# add the basemap\n",
    "ctx.add_basemap(ax,source=ctx.providers.CartoDB.Positron)"
   ]
  },
  {
   "attachments": {},
   "cell_type": "markdown",
   "metadata": {},
   "source": [
    "Now here's the challenge. Modify the cell above and make it into a **function**. Here are the steps to do so:\n",
    "\n",
    "1. select the entire code within the cell (click within and ctrl-A), and indent each line to the right (tab)\n",
    "1. at the top of the cell, make it into a function by adding a line of code ```def isomap():```\n",
    "1. run the cell to ensure that the function has been created (there will be no output)\n",
    "1. create a new code cell below, and \"call\" the function ```isomap()```"
   ]
  },
  {
   "cell_type": "markdown",
   "metadata": {},
   "source": [
    "### Matplotlib colormap (cmap) values\n",
    "[Click here](https://matplotlib.org/stable/users/explain/colors/colormaps.html) to view the cmap types you can call."
   ]
  },
  {
   "cell_type": "code",
   "execution_count": null,
   "metadata": {},
   "outputs": [],
   "source": [
    "# call your new function \n"
   ]
  },
  {
   "attachments": {},
   "cell_type": "markdown",
   "metadata": {},
   "source": [
    "All good! But calling the function will always create *the same map*. We want the function to generate different maps based on *arguments* that we feed it.\n",
    "\n",
    "Start by creating an argument for ```latlon```. In other words, feeding the function a latlon pair of coordinates will generate an isochrone map *for that location*.\n",
    "\n",
    "To do so:\n",
    "\n",
    "1. add ```latlon``` as an argument in the function declaration (line 1), and give it a default set of coordinates:\n",
    "```\n",
    "    def isomap(latlon=[34.059644777881374, -118.27731316248183]):\n",
    "```\n",
    "2. now your function is prepared to \"receive\" an argument for ```latlon```, and it even has a set of default coordinates\n",
    "3. next, your function needs to know to accept an argument for a ```latlon``` pair fed to it. In the first line of code following the function declaration, replace the coordinates with the argument variable:\n",
    "\n",
    "```    \n",
    "    latlon = latlon\n",
    "```\n",
    "\n",
    "4. That's it! Now you should be able to run the function, feeding it an argument for ```latlon```, and it should generate a map for that location. Test it out in the cell below. If you need a pair of coordinates, go to google maps and right click anywhere in the world to copy a pair of coordinates."
   ]
  },
  {
   "cell_type": "code",
   "execution_count": null,
   "metadata": {},
   "outputs": [],
   "source": [
    "# call your function with an argument for latlon\n"
   ]
  },
  {
   "attachments": {},
   "cell_type": "markdown",
   "metadata": {},
   "source": [
    "You're on a roll now. The sky is the limit! Create additional arguments to make your function truly dynamic. Here are a few ideas:\n",
    "\n",
    "- ```trip_times```\n",
    "- ```cmap```\n",
    "- ```title```\n",
    "- ```basemap``` (advanced)\n",
    "- an argument that specifies whether to output a static map or interactive map (super advanced)"
   ]
  },
  {
   "cell_type": "markdown",
   "metadata": {},
   "source": []
  }
 ],
 "metadata": {
  "kernelspec": {
   "display_name": "geos",
   "language": "python",
   "name": "python3"
  },
  "language_info": {
   "codemirror_mode": {
    "name": "ipython",
    "version": 3
   },
   "file_extension": ".py",
   "mimetype": "text/x-python",
   "name": "python",
   "nbconvert_exporter": "python",
   "pygments_lexer": "ipython3",
   "version": "3.11.0"
  },
  "orig_nbformat": 4,
  "vscode": {
   "interpreter": {
    "hash": "a6f97620323956135125d97ca3cfa81b2e752106e2996f191eab2ef4078f4063"
   }
  }
 },
 "nbformat": 4,
 "nbformat_minor": 2
}
