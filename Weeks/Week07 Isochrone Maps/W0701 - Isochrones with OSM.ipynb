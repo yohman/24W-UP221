{
 "cells": [
  {
   "cell_type": "markdown",
   "metadata": {
    "slideshow": {
     "slide_type": "slide"
    }
   },
   "source": [
    "<div class=\"alert alert-danger\">\n",
    "    This session will be recorded.\n",
    "</div>"
   ]
  },
  {
   "cell_type": "markdown",
   "metadata": {
    "slideshow": {
     "slide_type": "slide"
    }
   },
   "source": [
    "# \"Isochrones\" with OSM\n",
    "\n",
    "\n",
    "How far can you travel on foot in 15 minutes?\n",
    "\n",
    "<img src=\"images/isos.png\" width=800>\n",
    "\n"
   ]
  },
  {
   "cell_type": "markdown",
   "metadata": {
    "slideshow": {
     "slide_type": "slide"
    }
   },
   "source": [
    "## What is open street map?\n",
    "\n",
    "![osm](images/OSM.png)\n",
    "\n",
    "OpenStreetMap (OSM) is a global collaborative (crowd-sourced) dataset and project that aims at creating a free editable map of the world containing a lot of information about our environment. It contains data for example about streets, buildings, different services, and landuse to mention a few. You can view the map at www.openstreetmap.org. You can also sign up as a contributor if you want to edit the map. More details about OpenStreetMap and its contents are available in the OpenStreetMap Wiki.\n",
    "\n",
    "OSM has a large userbase with more than 7 million users and over a million contributers that update actively the OSM database with 3 million changesets per day. In total OSM contains 6.5 billion nodes and counting! (stats from January 2021).\n",
    "\n",
    "OpenStreetMap is used not only for integrating the OSM maps as background maps to visualizations or online maps, but also for many other purposes such as routing, geocoding, education, and research. OSM is also widely used for humanitarian response e.g. in crisis areas (e.g. after natural disasters) and for fostering economic development. Read more about humanitarian projects that use OSM data from the [Humanitarian OpenStreetMap Team (HOTOSM) website](https://www.hotosm.org/).\n",
    "\n",
    "\n",
    "- https://www.openstreetmap.org/\n",
    "- [OSM stats](https://wiki.openstreetmap.org/wiki/Stats)"
   ]
  },
  {
   "cell_type": "markdown",
   "metadata": {
    "slideshow": {
     "slide_type": "slide"
    }
   },
   "source": [
    "## OSMnx\n",
    "\n",
    "<a href=\"https://www.spur.org/publications/urbanist-article/2012-11-09/grand-reductions-10-diagrams-changed-city-planning\" target=\"_blank\"><img src=\"https://www.spur.org/sites/default/files/migrated/images/F22.jpg\" width=400></a>\n",
    "\n",
    "[[Image source]](https://www.spur.org/publications/urbanist-article/2012-11-09/grand-reductions-10-diagrams-changed-city-planning)\n",
    "\n",
    "Allan Jacobs’ seminal treatise Great Streets (1993) takes figure-ground analysis to a new level, showing 50 one-mile-square maps of cities around the world, all drawn to the same scale."
   ]
  },
  {
   "cell_type": "markdown",
   "metadata": {
    "slideshow": {
     "slide_type": "slide"
    }
   },
   "source": [
    "\n",
    "This week we will explore a Python module called OSMnx that can be used to retrieve, construct, analyze, and visualize street networks from OpenStreetMap, and also retrieve data about Points of Interest such as restaurants, schools, and lots of different kind of services. It is also easy to conduct network routing based on walking, cycling or driving by combining OSMnx functionalities with a package called NetworkX.\n",
    "\n",
    "<img src=\"https://i2.wp.com/geoffboeing.com/wp-content/uploads/2017/04/square-mile-street-networks.jpg?resize=768%2C617&ssl=1\" width=400>\n",
    "\n",
    "  - [Overview of OSMnx](http://geoffboeing.com/2016/11/osmnx-python-street-networks/)\n",
    "  - [GitHub repo](https://github.com/gboeing/osmnx)\n",
    "  - [Examples, demos, tutorials](https://github.com/gboeing/osmnx-examples)\n",
    "  - [Documentation](https://osmnx.readthedocs.io/en/stable/)\n",
    "  "
   ]
  },
  {
   "cell_type": "markdown",
   "metadata": {
    "slideshow": {
     "slide_type": "slide"
    }
   },
   "source": [
    "## What's an isochrone map?\n",
    "\n",
    "<img src=\"https://www.tandfonline.com/na101/home/literatum/publisher/tandf/journals/content/cppr20/2017/cppr20.v032.i04/02697459.2017.1329487/20171208/images/large/cppr_a_1329487_f0001_oc.jpeg\" width=800>\n",
    "\n",
    "- [Isochrone Mapping of Urban Transport: Car-dependency, Mode-choice and Design Research](https://www.tandfonline.com/doi/figure/10.1080/02697459.2017.1329487?scroll=top&needAccess=true)"
   ]
  },
  {
   "cell_type": "markdown",
   "metadata": {
    "slideshow": {
     "slide_type": "slide"
    }
   },
   "source": [
    "\n",
    "## Import the libraries"
   ]
  },
  {
   "cell_type": "code",
   "execution_count": null,
   "metadata": {},
   "outputs": [],
   "source": [
    "# for spatial data\n",
    "import geopandas as gpd\n",
    "\n",
    "# for plotting\n",
    "import matplotlib.pyplot as plt\n",
    "\n",
    "# for network analysis\n",
    "import networkx as nx\n",
    "\n",
    "# for street network analysis\n",
    "import osmnx as ox\n",
    "\n",
    "# for basemaps\n",
    "import contextily as ctx\n",
    "\n",
    "# for interactive webmaps\n",
    "import folium"
   ]
  },
  {
   "cell_type": "markdown",
   "metadata": {
    "slideshow": {
     "slide_type": "slide"
    }
   },
   "source": [
    "## Download and prep the street network\n",
    "\n",
    "When fetching network data from OpenStreetMap using `OSMnx`, it is possible to define the type of street network using the `network_type` parameter (options: `drive`, `walk` and `bike`). Below, we define the parameters that will determine the results of this lab.\n",
    "\n",
    "There are several methods to bring in Open Street Map data using OSMNX. Choose one that best suits your needs:\n",
    "\n",
    "Query type | Example scenario| OSMNX command\n",
    "---|---|---\n",
    "You have an address and specified distance buffer | 1 kilometer buffer from UCLA | [osmnx.graph.graph_from_address](https://osmnx.readthedocs.io/en/stable/osmnx.html?highlight=graph_from_place#osmnx.graph.graph_from_address)\n",
    "You have a specific lat/lon coordinate pair and specified distance buffer| 1 kilometer buffer from `[34.12,-118.55]` | [osmnx.graph.graph_from_point](https://osmnx.readthedocs.io/en/stable/osmnx.html?highlight=graph_from_place#osmnx.graph.graph_from_point)\n",
    "You have a general location or address that has defined boundaries | a neighborhood, zipcode, village, or small city | [osmnx.graph.graph_from_place](https://osmnx.readthedocs.io/en/stable/osmnx.html?highlight=graph_from_place#osmnx.graph.graph_from_place)\n"
   ]
  },
  {
   "cell_type": "code",
   "execution_count": null,
   "metadata": {
    "slideshow": {
     "slide_type": "slide"
    }
   },
   "outputs": [],
   "source": [
    "# configure the place, network type, trip times, and travel speed\n",
    "# latlon = [34.05917229622864, -118.27749316135392]\n",
    "latlon = [34.062443133500956, -118.29091192054261]\n",
    "network_type = 'walk'\n",
    "trip_times = [5, 10, 15] #in minutes\n",
    "meters_per_minute = 75 # travel distance per minute"
   ]
  },
  {
   "cell_type": "code",
   "execution_count": null,
   "metadata": {
    "slideshow": {
     "slide_type": "fragment"
    }
   },
   "outputs": [],
   "source": [
    "%%time\n",
    "# %%time is a magic command to see how long it takes this cell to run \n",
    "\n",
    "# download the street network\n",
    "G = ox.graph_from_point(latlon, network_type=network_type, dist = 2000)"
   ]
  },
  {
   "cell_type": "code",
   "execution_count": null,
   "metadata": {
    "slideshow": {
     "slide_type": "slide"
    }
   },
   "outputs": [],
   "source": [
    "# what is G?\n",
    "type(G)"
   ]
  },
  {
   "cell_type": "markdown",
   "metadata": {
    "slideshow": {
     "slide_type": "-"
    }
   },
   "source": [
    "- [Networkx multidigraph](https://networkx.org/documentation/stable/reference/classes/multidigraph.html)"
   ]
  },
  {
   "cell_type": "markdown",
   "metadata": {
    "slideshow": {
     "slide_type": "slide"
    }
   },
   "source": [
    "Quick plot to visualize data.\n",
    "\n",
    "- [plot_graph](https://osmnx.readthedocs.io/en/stable/osmnx.html?highlight=plot_graph#osmnx.plot.plot_graph)"
   ]
  },
  {
   "cell_type": "code",
   "execution_count": null,
   "metadata": {
    "slideshow": {
     "slide_type": "-"
    }
   },
   "outputs": [],
   "source": [
    "# quick plot using oxmnx\n",
    "fig, ax = ox.plot_graph(G,figsize=(12,12))"
   ]
  },
  {
   "cell_type": "markdown",
   "metadata": {
    "slideshow": {
     "slide_type": "slide"
    }
   },
   "source": [
    "## Project to web mercator\n",
    "\n",
    "![projections](https://www.esri.com/arcgis-blog/wp-content/uploads/2022/02/grid2.png)\n",
    "\n",
    "In order to conduct spatial analysis, it is recommended to use a projected coordinate system, rather than a geographic coordinate system (which uses angular measurements). Here is a [blog post from ESRI](https://www.esri.com/arcgis-blog/products/arcgis-pro/mapping/gcs_vs_pcs/) that describes the differences between the two."
   ]
  },
  {
   "cell_type": "code",
   "execution_count": null,
   "metadata": {
    "slideshow": {
     "slide_type": "slide"
    }
   },
   "outputs": [],
   "source": [
    "# project our network data to Web Mercator (measurements are in meters)\n",
    "G = ox.project_graph(G, to_crs='epsg:3857')"
   ]
  },
  {
   "cell_type": "markdown",
   "metadata": {
    "slideshow": {
     "slide_type": "slide"
    }
   },
   "source": [
    "## Convert edges and nodes to geodataframes\n",
    "\n",
    "OSMnx provides a convenient function `graph_to_gdfs()` that can convert the graph into two separate GeoDataFrames where the first one contains the information about the nodes and the second one about the edge.\n",
    "\n",
    "Let’s extract the nodes and edges from the graph as GeoDataFrames:"
   ]
  },
  {
   "cell_type": "code",
   "execution_count": null,
   "metadata": {},
   "outputs": [],
   "source": [
    "# convert nodes and edges to geodataframes\n",
    "gdf_nodes, gdf_edges = ox.graph_to_gdfs(G)"
   ]
  },
  {
   "cell_type": "code",
   "execution_count": null,
   "metadata": {
    "scrolled": true,
    "slideshow": {
     "slide_type": "slide"
    }
   },
   "outputs": [],
   "source": [
    "gdf_nodes.sample(10)"
   ]
  },
  {
   "cell_type": "code",
   "execution_count": null,
   "metadata": {
    "slideshow": {
     "slide_type": "slide"
    }
   },
   "outputs": [],
   "source": [
    "gdf_nodes"
   ]
  },
  {
   "cell_type": "code",
   "execution_count": null,
   "metadata": {
    "slideshow": {
     "slide_type": "slide"
    }
   },
   "outputs": [],
   "source": [
    "gdf_nodes.plot(figsize=(10,10))"
   ]
  },
  {
   "cell_type": "code",
   "execution_count": null,
   "metadata": {
    "slideshow": {
     "slide_type": "slide"
    }
   },
   "outputs": [],
   "source": [
    "gdf_edges.head()"
   ]
  },
  {
   "cell_type": "code",
   "execution_count": null,
   "metadata": {
    "slideshow": {
     "slide_type": "slide"
    }
   },
   "outputs": [],
   "source": [
    "gdf_edges.plot(figsize=(10,10))"
   ]
  },
  {
   "cell_type": "markdown",
   "metadata": {
    "slideshow": {
     "slide_type": "slide"
    }
   },
   "source": [
    "There are many columns in our GeoDataFrame. Most of the columns are fairly self-explanatory but the following table describes all of them.\n",
    "\n",
    "Most of the attributes come directly from the OpenStreetMap, however, columns `u` and `v` are Networkx specific ids. You can click on the links to get more information about each attribute:\n",
    "\n",
    "\n",
    "| Column                                                     | Description                 | Data type         |\n",
    "|------------------------------------------------------------|-----------------------------|-------------------|\n",
    "| [bridge](http://wiki.openstreetmap.org/wiki/Key:bridge)    | Bridge feature              | boolean           |\n",
    "| geometry                                                   | Geometry of the feature     | Shapely.geometry  |\n",
    "| [highway](http://wiki.openstreetmap.org/wiki/Key:highway)  | Tag for roads (road type)   | str / list        |\n",
    "| [lanes](http://wiki.openstreetmap.org/wiki/Key:lanes)      | Number of lanes             | int (or nan)      |\n",
    "| [length](http://wiki.openstreetmap.org/wiki/Key:length)    | Length of feature (meters)  | float             |\n",
    "| [maxspeed](http://wiki.openstreetmap.org/wiki/Key:maxspeed)| maximum legal speed limit   | int /list         |\n",
    "| [name](http://wiki.openstreetmap.org/wiki/Key:name)        | Name of the (street) element| str (or nan)      |\n",
    "| [oneway](http://wiki.openstreetmap.org/wiki/Key:oneway)    | One way road                | boolean           |\n",
    "| [osmid](http://wiki.openstreetmap.org/wiki/Node)           | Unique ids for the element  | list              |\n",
    "| [u](http://ow.ly/bV8n30h7Ufm)                              | The first node of edge      | int               |\n",
    "| [v](http://ow.ly/bV8n30h7Ufm)                              | The last node of edge       | int               |\n"
   ]
  },
  {
   "cell_type": "markdown",
   "metadata": {
    "slideshow": {
     "slide_type": "slide"
    }
   },
   "source": [
    "Let's take a look what kind of features we have in the `highway` column:"
   ]
  },
  {
   "cell_type": "code",
   "execution_count": null,
   "metadata": {
    "slideshow": {
     "slide_type": "fragment"
    }
   },
   "outputs": [],
   "source": [
    "gdf_edges['highway'].value_counts()"
   ]
  },
  {
   "cell_type": "markdown",
   "metadata": {
    "slideshow": {
     "slide_type": "slide"
    }
   },
   "source": [
    "## Get the centroid\n",
    "\n",
    "For this lab, we will use the centroid of the street network as the point from which to conduct our travel isochrone maps. Note that this needs to be somewhere within the street network to build the isochrone, and does not necessarily have to be the centroid.\n",
    "\n",
    "- [geopandas `total_bounds`](https://geopandas.readthedocs.io/en/latest/docs/reference/api/geopandas.GeoSeries.total_bounds.html)"
   ]
  },
  {
   "cell_type": "code",
   "execution_count": null,
   "metadata": {
    "slideshow": {
     "slide_type": "fragment"
    }
   },
   "outputs": [],
   "source": [
    "# get the bounding box coordinates\n",
    "minx, miny, maxx, maxy = gdf_nodes.geometry.total_bounds\n",
    "print(minx)\n",
    "print(miny)\n",
    "print(maxx)\n",
    "print(maxy)"
   ]
  },
  {
   "cell_type": "code",
   "execution_count": null,
   "metadata": {
    "slideshow": {
     "slide_type": "slide"
    }
   },
   "outputs": [],
   "source": [
    "# calculate the centroid\n",
    "centroid_x = (maxx-minx)/2 + minx\n",
    "centroid_y = (maxy-miny)/2 + miny\n",
    "print(centroid_x)\n",
    "print(centroid_y)"
   ]
  },
  {
   "cell_type": "markdown",
   "metadata": {
    "slideshow": {
     "slide_type": "slide"
    }
   },
   "source": [
    "## Get the nearest node to the lat/lon point\n",
    "\n",
    "Let's now find the nearest graph node (and its node ID) to the centroid point using OSMnx [distance.nearest_nodes](https://osmnx.readthedocs.io/en/stable/osmnx.html#osmnx.distance.nearest_nodes). \n"
   ]
  },
  {
   "cell_type": "code",
   "execution_count": null,
   "metadata": {},
   "outputs": [],
   "source": [
    "# use osmnx's distance.nearest_nodes command to get the id for the nearest node\n",
    "center_node = ox.distance.nearest_nodes(G,Y=centroid_y,X=centroid_x)\n",
    "print('The id for the nearest node is ' + str(center_node))"
   ]
  },
  {
   "cell_type": "code",
   "execution_count": null,
   "metadata": {
    "slideshow": {
     "slide_type": "fragment"
    }
   },
   "outputs": [],
   "source": [
    "# what is this record?\n",
    "gdf_nodes.loc[[center_node]]"
   ]
  },
  {
   "cell_type": "markdown",
   "metadata": {
    "slideshow": {
     "slide_type": "slide"
    }
   },
   "source": [
    "Why `loc` and not `iloc`? The differences are confusing...\n",
    "\n",
    "-  loc gets rows (or columns) with particular labels from the index\n",
    "-  iloc gets rows (or columns) at particular positions in the index (so it only takes integers)\n",
    "\n",
    "In this case, although the index is numeric, it does not represent a cumulative position in the dataframe, but rather is a reference to the OSM ID for that node. Therefore, we must use `loc` instead of `iloc`."
   ]
  },
  {
   "cell_type": "markdown",
   "metadata": {
    "slideshow": {
     "slide_type": "slide"
    }
   },
   "source": [
    "## Map the network layers"
   ]
  },
  {
   "cell_type": "code",
   "execution_count": null,
   "metadata": {
    "slideshow": {
     "slide_type": "fragment"
    }
   },
   "outputs": [],
   "source": [
    "# set up the subplot (single plot = ax)\n",
    "fig, ax = plt.subplots(figsize=(10,10))\n",
    "\n",
    "# add the edges to ax\n",
    "gdf_edges.plot(ax=ax,\n",
    "               linewidth=0.5,\n",
    "               edgecolor='gray', \n",
    "               zorder=10)\n",
    "\n",
    "# add all nodes to ax\n",
    "gdf_nodes.plot(ax=ax, \n",
    "               markersize=2, \n",
    "               zorder=20)\n",
    "\n",
    "# add the center node in red also to ax\n",
    "gdf_nodes.loc[[center_node]].plot(ax=ax,\n",
    "                                  color='r', \n",
    "                                  zorder=30)\n",
    "\n",
    "# no axis\n",
    "ax.axis('off')\n",
    "\n",
    "# add a basemap\n",
    "ctx.add_basemap(ax,source=ctx.providers.CartoDB.Positron,zoom=14)"
   ]
  },
  {
   "cell_type": "markdown",
   "metadata": {
    "slideshow": {
     "slide_type": "slide"
    }
   },
   "source": [
    "# Create isochrones\n",
    "\n",
    "How far can you walk in 5, 10, 15, and 20 minutes from the central node? "
   ]
  },
  {
   "cell_type": "markdown",
   "metadata": {
    "slideshow": {
     "slide_type": "slide"
    }
   },
   "source": [
    "## Calculating travel cost\n",
    "\n",
    "Now comes the fun part. We have thus far:\n",
    "\n",
    "- downloaded nodes and edges for our place of interest\n",
    "- reprojected them to web mercator for spatial analysis\n",
    "- converted the data to geodataframes\n",
    "- determined the centroid of the network\n",
    "- determined the node closest to the centroid to conduct create isochrone maps\n",
    "\n",
    "In order to create isochrone maps, we need to associate a **cost** to each edge in our network. In other words, we need an attribute that tells us exactly how long it would take an average person to traverse the distance of each edge in our network."
   ]
  },
  {
   "cell_type": "code",
   "execution_count": null,
   "metadata": {
    "slideshow": {
     "slide_type": "slide"
    }
   },
   "outputs": [],
   "source": [
    "# a quick look at the data\n",
    "gdf_edges[['osmid','name','highway','length']].sample(5)"
   ]
  },
  {
   "cell_type": "code",
   "execution_count": null,
   "metadata": {
    "slideshow": {
     "slide_type": "fragment"
    }
   },
   "outputs": [],
   "source": [
    "# create a new column, calculate the time it takes to travel that edge\n",
    "gdf_edges['walk_time'] = gdf_edges['length']/meters_per_minute"
   ]
  },
  {
   "cell_type": "markdown",
   "metadata": {
    "slideshow": {
     "slide_type": "slide"
    }
   },
   "source": [
    "Now let's do a spot check. If a person travels 75 meters per minute, do the numbers in the new `walk_time` column make sense?"
   ]
  },
  {
   "cell_type": "code",
   "execution_count": null,
   "metadata": {
    "slideshow": {
     "slide_type": "fragment"
    }
   },
   "outputs": [],
   "source": [
    "gdf_edges[['osmid','name','highway','length','walk_time']].sample(10)"
   ]
  },
  {
   "cell_type": "markdown",
   "metadata": {
    "slideshow": {
     "slide_type": "slide"
    }
   },
   "source": [
    "## Choosing colors (cmap) for our isochrones\n",
    "\n",
    "- https://matplotlib.org/examples/color/colormaps_reference.html\n",
    "\n",
    "OSMnx has included a super handy utility [`get_colors`](https://osmnx.readthedocs.io/en/stable/osmnx.html?highlight=get_colors#osmnx.plot.get_colors) to extract colors from existing cmap color bands. The way it works is that you ask for any number of colors (since we have 4 travel times, we want 4 colors), give it a cmap name, and it returns you a list of colors. "
   ]
  },
  {
   "cell_type": "code",
   "execution_count": null,
   "metadata": {},
   "outputs": [],
   "source": [
    "# choose a colormap\n",
    "cmap = 'RdYlGn'"
   ]
  },
  {
   "cell_type": "code",
   "execution_count": null,
   "metadata": {
    "slideshow": {
     "slide_type": "fragment"
    }
   },
   "outputs": [],
   "source": [
    "# assign a color hex code for each trip time isochrone\n",
    "iso_colors = ox.plot.get_colors(n=len(trip_times), \n",
    "                                cmap=cmap, \n",
    "                                start=0, \n",
    "                                return_hex=True)\n",
    "print(trip_times)\n",
    "print(iso_colors)"
   ]
  },
  {
   "cell_type": "code",
   "execution_count": null,
   "metadata": {
    "slideshow": {
     "slide_type": "slide"
    }
   },
   "outputs": [],
   "source": [
    "# create a list of \"zipped\" time/colors\n",
    "time_color = list(zip(trip_times, iso_colors))\n",
    "time_color"
   ]
  },
  {
   "cell_type": "markdown",
   "metadata": {},
   "source": [
    "What are zipped lists in python?\n",
    "\n",
    "- https://towardsdatascience.com/zip-function-in-python-da91c248385d"
   ]
  },
  {
   "cell_type": "code",
   "execution_count": null,
   "metadata": {
    "slideshow": {
     "slide_type": "fragment"
    }
   },
   "outputs": [],
   "source": [
    "# loop through the list of time/colors\n",
    "for time,color in list(time_color):\n",
    "    print('The color for '+str(time)+' minutes is ' + color)"
   ]
  },
  {
   "cell_type": "markdown",
   "metadata": {
    "slideshow": {
     "slide_type": "slide"
    }
   },
   "source": [
    "## Color each node based on travel time from point of interest\n",
    "\n",
    "Now that we have determined the color for each travel time, let's loop through each time/color, and assign the nodes that fall within that travel time. To do so, we use a feature from [NetworkX called `ego_graph`.](https://networkx.org/documentation/stable//reference/generated/networkx.generators.ego.ego_graph.html) The ego graph determines which nodes fall within a given \"radius\", which in our case is determined by time.\n",
    "\n",
    "The following loop does:\n",
    "\n",
    "- loops through each time/color\n",
    "- creates an ego graph for each time/color\n",
    "- assigns the time/color in the geodataframe to each node that falls within"
   ]
  },
  {
   "cell_type": "markdown",
   "metadata": {
    "slideshow": {
     "slide_type": "slide"
    }
   },
   "source": [
    "But first, let's reverse the time/color list. Why? We need to draw the nodes from the outside, in. In other words, all nodes that are \"walkable\" within 20 minutes include nodes that are \"walkable\" for 15, 10, or 5 minutes. Then, we draw the nodes that are within 15 minutes, overriding the colors for those nodes in the inner circle... and so on. "
   ]
  },
  {
   "cell_type": "code",
   "execution_count": null,
   "metadata": {},
   "outputs": [],
   "source": [
    "# reverse the order so that outside nodes get associated first\n",
    "time_color.reverse()\n",
    "# time_color.sort(reverse=True)\n",
    "time_color"
   ]
  },
  {
   "cell_type": "code",
   "execution_count": null,
   "metadata": {
    "slideshow": {
     "slide_type": "slide"
    }
   },
   "outputs": [],
   "source": [
    "# loop through each trip time and associated color\n",
    "for time, color in list(time_color):\n",
    "\n",
    "    # for each trip time, create an egograph of nodes that fall within that distance\n",
    "    subgraph = nx.ego_graph(G, center_node, radius=time,distance='time')\n",
    "\n",
    "    print('There are ' + str(len(subgraph.nodes())) + ' nodes within ' + str(time) + ' minutes ' + color)\n",
    "    \n",
    "    # for each of those nodes, update the gdf_nodes dataframe and assign it with its associated distance color\n",
    "    for node in subgraph.nodes():\n",
    "        gdf_nodes.loc[node,'time'] = time\n",
    "        gdf_nodes.loc[node,'color'] = color"
   ]
  },
  {
   "cell_type": "code",
   "execution_count": null,
   "metadata": {
    "slideshow": {
     "slide_type": "slide"
    }
   },
   "outputs": [],
   "source": [
    "# spot check\n",
    "gdf_nodes.sample(10)"
   ]
  },
  {
   "cell_type": "code",
   "execution_count": null,
   "metadata": {
    "slideshow": {
     "slide_type": "slide"
    }
   },
   "outputs": [],
   "source": [
    "# we will use the .replace to fill the 'nan' values in the color column to be a grey color \n",
    "gdf_nodes['color'] = gdf_nodes['color'].replace('nan', '#cccccc')"
   ]
  },
  {
   "cell_type": "code",
   "execution_count": null,
   "metadata": {
    "slideshow": {
     "slide_type": "fragment"
    }
   },
   "outputs": [],
   "source": [
    "# another spot check: are all values in the color column populated?\n",
    "gdf_nodes.sample(10)"
   ]
  },
  {
   "cell_type": "code",
   "execution_count": null,
   "metadata": {
    "slideshow": {
     "slide_type": "slide"
    },
    "tags": []
   },
   "outputs": [],
   "source": [
    "# map it\n",
    "gdf_nodes.plot(figsize=(10,10),\n",
    "               color=gdf_nodes['color'],\n",
    "               markersize=3,\n",
    "               )"
   ]
  },
  {
   "cell_type": "markdown",
   "metadata": {
    "slideshow": {
     "slide_type": "slide"
    }
   },
   "source": [
    "## Create polygons for each time area\n",
    "\n",
    "Now we create polygons for each time area. For example, this is how you would create a polygon that \"surrounds\" all the 5 minute nodes."
   ]
  },
  {
   "cell_type": "code",
   "execution_count": null,
   "metadata": {
    "slideshow": {
     "slide_type": "slide"
    }
   },
   "outputs": [],
   "source": [
    "# put the 5 minute nodes in a variable\n",
    "gdf_5 = gdf_nodes[gdf_nodes['time']==5]"
   ]
  },
  {
   "cell_type": "code",
   "execution_count": null,
   "metadata": {
    "slideshow": {
     "slide_type": "fragment"
    }
   },
   "outputs": [],
   "source": [
    "# plot it\n",
    "gdf_5.plot()"
   ]
  },
  {
   "cell_type": "markdown",
   "metadata": {
    "slideshow": {
     "slide_type": "slide"
    }
   },
   "source": [
    "Points are great, but polygons are visually more informative. For this, we create a [convex hull](https://medium.com/@harshitsikchi/convex-hulls-explained-baab662c4e94).\n",
    "\n",
    "![convex hull](https://miro.medium.com/max/1489/1*F4IUmOJbbLMJiTgHxpoc7Q.png)\n",
    "\n",
    "[source](https://miro.medium.com/max/1489/1*F4IUmOJbbLMJiTgHxpoc7Q.png)\n",
    "\n",
    "Note that this is one of many possible geometric manipulations in python. Check out a few others:\n",
    "\n",
    "- https://pythongis.org/part2/chapter-06/nb/03-geometric-manipulation.html"
   ]
  },
  {
   "cell_type": "code",
   "execution_count": null,
   "metadata": {
    "slideshow": {
     "slide_type": "slide"
    }
   },
   "outputs": [],
   "source": [
    "# combine all the points (unary_union) and create a convex hull polygon\n",
    "gdf_5.unary_union.convex_hull"
   ]
  },
  {
   "cell_type": "markdown",
   "metadata": {
    "slideshow": {
     "slide_type": "slide"
    }
   },
   "source": [
    "## Dissolve to the rescue!\n",
    "\n",
    "Now that we understand the process of how the isochrones will be created (from points to convex hulls), let's apply this to each of our travel times. The `dissolve` function is a handy geopandas tool that collapses and groups our data based on a given category. We can use this to create grouped points per time period.\n",
    "\n",
    "- https://geopandas.org/aggregation_with_dissolve.html"
   ]
  },
  {
   "cell_type": "code",
   "execution_count": null,
   "metadata": {
    "slideshow": {
     "slide_type": "slide"
    }
   },
   "outputs": [],
   "source": [
    "# dissolve the nodes by time\n",
    "# adding the \"time\" argument creates a separate geometry (multipoint in this case) for each unique time category\n",
    "isochrones = gdf_nodes.dissolve(by = \"time\")\n",
    "isochrones"
   ]
  },
  {
   "cell_type": "code",
   "execution_count": null,
   "metadata": {
    "slideshow": {
     "slide_type": "slide"
    }
   },
   "outputs": [],
   "source": [
    "# for each row, create a convex hull\n",
    "isochrones = isochrones.convex_hull.reset_index(name='geometry')\n",
    "isochrones"
   ]
  },
  {
   "cell_type": "code",
   "execution_count": null,
   "metadata": {},
   "outputs": [],
   "source": [
    "# reverse the order so that outer polygon gets drawn first\n",
    "isochrones.sort_values(by='time', ascending=False,inplace=True)\n",
    "isochrones"
   ]
  },
  {
   "cell_type": "code",
   "execution_count": null,
   "metadata": {},
   "outputs": [],
   "source": [
    "# reverse the colors too!\n",
    "iso_colors.reverse()\n",
    "iso_colors"
   ]
  },
  {
   "cell_type": "code",
   "execution_count": null,
   "metadata": {
    "slideshow": {
     "slide_type": "slide"
    }
   },
   "outputs": [],
   "source": [
    "isochrones.plot(figsize=(10,10),alpha=1,color=iso_colors, legend=True)"
   ]
  },
  {
   "cell_type": "markdown",
   "metadata": {
    "slideshow": {
     "slide_type": "slide"
    }
   },
   "source": [
    "# Putting it all together"
   ]
  },
  {
   "cell_type": "code",
   "execution_count": null,
   "metadata": {
    "slideshow": {
     "slide_type": "fragment"
    }
   },
   "outputs": [],
   "source": [
    "# set up the subplots\n",
    "fig, ax = plt.subplots(figsize=(10,15))\n",
    "\n",
    "# add the isochrone boundary\n",
    "isochrones.boundary.plot(\n",
    "    ax=ax,\n",
    "    alpha=1,\n",
    "    linestyle='--',\n",
    "    color=iso_colors,\n",
    "    lw=2\n",
    "    ) \n",
    "\n",
    "# add the isochrones\n",
    "isochrones.plot(\n",
    "    ax=ax, \n",
    "    alpha=0.2, \n",
    "    categorical=True, # even though it is numeric, treat it as categorical\n",
    "    color=iso_colors,\n",
    "    )\n",
    "\n",
    "# add the center node in red\n",
    "gdf_nodes.loc[[center_node]].plot(ax=ax,color='r',marker='x',markersize=50)\n",
    "\n",
    "# hide the axis\n",
    "ax.axis('off')\n",
    "\n",
    "# add the basemap\n",
    "ctx.add_basemap(ax,source=ctx.providers.CartoDB.Positron)"
   ]
  },
  {
   "cell_type": "markdown",
   "metadata": {
    "slideshow": {
     "slide_type": "slide"
    }
   },
   "source": [
    "## Adding custom legends\n",
    "\n",
    "Inspired by Monisha's [impressive notebook](https://github.com/lucybriggs12/snakeemoji/blob/e56406aef7de1a683512490bee9e29150c24770e/Group%20Assignments/Week%2005/Monisha_Reginald_Midterm_Notebook.ipynb), I'd like to introduce additional customization options for your map outputs: legends. Often times with any graphical outputs, one can choose to accept the defaults, or spend additional time to modify it to best suit your overall design ideas."
   ]
  },
  {
   "cell_type": "code",
   "execution_count": null,
   "metadata": {
    "slideshow": {
     "slide_type": "fragment"
    }
   },
   "outputs": [],
   "source": [
    "# to draw custom legend elements, import these libraries\n",
    "from matplotlib.patches import Patch\n",
    "from matplotlib.lines import Line2D"
   ]
  },
  {
   "cell_type": "code",
   "execution_count": null,
   "metadata": {
    "slideshow": {
     "slide_type": "slide"
    }
   },
   "outputs": [],
   "source": [
    "# set up the subplots\n",
    "fig, ax = plt.subplots(figsize=(10,15))\n",
    "\n",
    "# add the isochrone boundary\n",
    "isochrones.boundary.plot(\n",
    "    ax=ax,\n",
    "    alpha=1,\n",
    "    linestyle='--',\n",
    "    color=iso_colors,\n",
    "    lw=2\n",
    "    ) \n",
    "\n",
    "# add the isochrones\n",
    "isochrones.plot(\n",
    "    ax=ax, \n",
    "    alpha=0.2, \n",
    "    categorical=True, # even though it is numeric, treat it as categorical\n",
    "    color=iso_colors,\n",
    "    )\n",
    "\n",
    "# add the center node in red\n",
    "gdf_nodes.loc[[center_node]].plot(\n",
    "    ax=ax,\n",
    "    color='r',\n",
    "    marker='x',\n",
    "    markersize=50\n",
    "    )\n",
    "\n",
    "# build custom legend\n",
    "legend_elements = [\n",
    "    # add the center node to the legend\n",
    "    Line2D([0], [0], marker='x', color='red', linestyle='',label='Start location', markersize=6),\n",
    "    ]\n",
    "\n",
    "# sort back to small time to large time\n",
    "# time_color.sort(reverse=False)\n",
    "time_color.reverse()\n",
    "\n",
    "# loop through the list of time/colors and add each to the legend\n",
    "for time,color in list(time_color):\n",
    "    legend_item = Patch(facecolor=color, edgecolor=color, linestyle='--',linewidth=1,label=str(time)+' minutes',alpha=0.4)\n",
    "    legend_elements.append(legend_item)\n",
    "\n",
    "# add the legend\n",
    "ax.legend(handles=legend_elements,loc='lower left') # location options: upper/center/lower and left/center/right\n",
    "\n",
    "# add a title\n",
    "ax.set_title('How far can you walk from here?',fontsize=25,pad=20)\n",
    "\n",
    "# hide the axis\n",
    "ax.axis('off')\n",
    "\n",
    "# add the basemap\n",
    "ctx.add_basemap(ax,source=ctx.providers.CartoDB.DarkMatter)\n"
   ]
  },
  {
   "cell_type": "code",
   "execution_count": null,
   "metadata": {
    "slideshow": {
     "slide_type": "slide"
    }
   },
   "outputs": [],
   "source": [
    "m = folium.Map(location=latlon,zoom_start=15, tiles='Cartodb Positron')\n",
    "# and here comes the wow factor...\n",
    "isochrones.explore(m=m,column='time',cmap=cmap,categorical=True)\n",
    "gdf_nodes.explore(m=m,column='time')"
   ]
  }
 ],
 "metadata": {
  "celltoolbar": "Slideshow",
  "kernelspec": {
   "display_name": "Python 3 (ipykernel)",
   "language": "python",
   "name": "python3"
  },
  "language_info": {
   "codemirror_mode": {
    "name": "ipython",
    "version": 3
   },
   "file_extension": ".py",
   "mimetype": "text/x-python",
   "name": "python",
   "nbconvert_exporter": "python",
   "pygments_lexer": "ipython3",
   "version": "3.10.8"
  },
  "toc": {
   "base_numbering": 1,
   "nav_menu": {},
   "number_sections": true,
   "sideBar": true,
   "skip_h1_title": false,
   "title_cell": "Table of Contents",
   "title_sidebar": "Contents",
   "toc_cell": false,
   "toc_position": {
    "height": "calc(100% - 180px)",
    "left": "10px",
    "top": "150px",
    "width": "349.091px"
   },
   "toc_section_display": true,
   "toc_window_display": false
  },
  "vscode": {
   "interpreter": {
    "hash": "a6f97620323956135125d97ca3cfa81b2e752106e2996f191eab2ef4078f4063"
   }
  }
 },
 "nbformat": 4,
 "nbformat_minor": 4
}
